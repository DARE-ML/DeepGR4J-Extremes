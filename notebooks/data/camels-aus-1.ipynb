{
 "cells": [
  {
   "attachments": {},
   "cell_type": "markdown",
   "metadata": {},
   "source": [
    "## Working with CAMELS dataset in Python"
   ]
  },
  {
   "cell_type": "code",
   "execution_count": 1,
   "metadata": {},
   "outputs": [],
   "source": [
    "import os\n",
    "import sys\n",
    "\n",
    "import pandas as pd\n",
    "import datetime as dt\n",
    "import matplotlib.pyplot as plt\n",
    "import seaborn as sns\n",
    "\n",
    "import torch\n",
    "import torch.utils.data as data\n",
    "\n",
    "from sklearn.preprocessing import StandardScaler\n",
    "from sklearn.model_selection import train_test_split\n",
    "\n",
    "from camels_aus.repository import CamelsAus, download_camels_aus"
   ]
  },
  {
   "cell_type": "code",
   "execution_count": 2,
   "metadata": {},
   "outputs": [
    {
     "name": "stdout",
     "output_type": "stream",
     "text": [
      "INFO: Dowloading https://download.pangaea.de/dataset/921850/files/01_id_name_metadata.zip ...\n",
      "INFO: Dowloaded https://download.pangaea.de/dataset/921850/files/01_id_name_metadata.zip\n",
      "INFO: Dowloading https://download.pangaea.de/dataset/921850/files/02_location_boundary_area.zip ...\n",
      "INFO: Dowloaded https://download.pangaea.de/dataset/921850/files/02_location_boundary_area.zip\n",
      "INFO: Dowloading https://download.pangaea.de/dataset/921850/files/03_streamflow.zip ...\n",
      "INFO: Dowloaded https://download.pangaea.de/dataset/921850/files/03_streamflow.zip\n",
      "INFO: Dowloading https://download.pangaea.de/dataset/921850/files/04_attributes.zip ...\n",
      "INFO: Dowloaded https://download.pangaea.de/dataset/921850/files/04_attributes.zip\n",
      "INFO: Dowloading https://download.pangaea.de/dataset/921850/files/05_hydrometeorology.zip ...\n",
      "INFO: Dowloaded https://download.pangaea.de/dataset/921850/files/05_hydrometeorology.zip\n",
      "INFO: Dowloading https://download.pangaea.de/dataset/921850/files/CAMELS_AUS_Attributes-Indices_MasterTable.csv ...\n",
      "INFO: Dowloaded https://download.pangaea.de/dataset/921850/files/CAMELS_AUS_Attributes-Indices_MasterTable.csv\n",
      "INFO: Dowloading https://download.pangaea.de/dataset/921850/files/CAMELS_AUS_ReferenceList.pdf ...\n",
      "INFO: Dowloaded https://download.pangaea.de/dataset/921850/files/CAMELS_AUS_ReferenceList.pdf\n",
      "INFO: Dowloading https://download.pangaea.de/dataset/921850/files/Units_01_TimeseriesData.pdf ...\n",
      "INFO: Dowloaded https://download.pangaea.de/dataset/921850/files/Units_01_TimeseriesData.pdf\n",
      "INFO: Dowloading https://download.pangaea.de/dataset/921850/files/Units_02_AttributeMasterTable.pdf ...\n",
      "INFO: Dowloaded https://download.pangaea.de/dataset/921850/files/Units_02_AttributeMasterTable.pdf\n",
      "INFO: Extracting ../../data/camels/aus/01_id_name_metadata.zip ...\n",
      "INFO: Extracted ../../data/camels/aus/01_id_name_metadata.zip\n",
      "INFO: Extracting ../../data/camels/aus/02_location_boundary_area.zip ...\n",
      "INFO: Extracted ../../data/camels/aus/02_location_boundary_area.zip\n",
      "INFO: Extracting ../../data/camels/aus/03_streamflow.zip ...\n",
      "INFO: Extracted ../../data/camels/aus/03_streamflow.zip\n",
      "INFO: Extracting ../../data/camels/aus/04_attributes.zip ...\n",
      "INFO: Extracted ../../data/camels/aus/04_attributes.zip\n",
      "INFO: Extracting ../../data/camels/aus/05_hydrometeorology.zip ...\n",
      "INFO: Extracted ../../data/camels/aus/05_hydrometeorology.zip\n"
     ]
    }
   ],
   "source": [
    "repo = CamelsAus()\n",
    "data_dir = '../../data/camels/aus/'\n",
    "download_camels_aus(data_dir)"
   ]
  },
  {
   "cell_type": "code",
   "execution_count": 3,
   "metadata": {},
   "outputs": [],
   "source": [
    "sys.path.append('../../')\n",
    "from data.camels_dataset import CamelsAusDataset"
   ]
  },
  {
   "cell_type": "code",
   "execution_count": 4,
   "metadata": {},
   "outputs": [],
   "source": [
    "camels_ds = CamelsAusDataset(\n",
    "    data_dir=data_dir,\n",
    "    scale=True, \n",
    "    create_seq=True\n",
    ")"
   ]
  },
  {
   "cell_type": "code",
   "execution_count": 5,
   "metadata": {},
   "outputs": [],
   "source": [
    "import random\n",
    "\n",
    "random_station = random.choice(camels_ds.stations)"
   ]
  },
  {
   "cell_type": "code",
   "execution_count": 6,
   "metadata": {},
   "outputs": [
    {
     "data": {
      "text/plain": [
       "136"
      ]
     },
     "execution_count": 6,
     "metadata": {},
     "output_type": "execute_result"
    }
   ],
   "source": [
    "len(camels_ds.get_dataloader(random_station))"
   ]
  },
  {
   "cell_type": "code",
   "execution_count": 7,
   "metadata": {},
   "outputs": [
    {
     "data": {
      "text/plain": [
       "58"
      ]
     },
     "execution_count": 7,
     "metadata": {},
     "output_type": "execute_result"
    }
   ],
   "source": [
    "len(camels_ds.get_dataloader(random_station, train=False, shuffle=False))"
   ]
  },
  {
   "cell_type": "code",
   "execution_count": 8,
   "metadata": {},
   "outputs": [
    {
     "name": "stdout",
     "output_type": "stream",
     "text": [
      "torch.Size([64]) torch.Size([64, 7, 5]) torch.Size([64, 1])\n",
      "torch.Size([64]) torch.Size([64, 7, 5]) torch.Size([64, 1])\n",
      "torch.Size([64]) torch.Size([64, 7, 5]) torch.Size([64, 1])\n",
      "torch.Size([64]) torch.Size([64, 7, 5]) torch.Size([64, 1])\n",
      "torch.Size([64]) torch.Size([64, 7, 5]) torch.Size([64, 1])\n",
      "torch.Size([64]) torch.Size([64, 7, 5]) torch.Size([64, 1])\n",
      "torch.Size([64]) torch.Size([64, 7, 5]) torch.Size([64, 1])\n",
      "torch.Size([64]) torch.Size([64, 7, 5]) torch.Size([64, 1])\n",
      "torch.Size([64]) torch.Size([64, 7, 5]) torch.Size([64, 1])\n",
      "torch.Size([64]) torch.Size([64, 7, 5]) torch.Size([64, 1])\n",
      "torch.Size([64]) torch.Size([64, 7, 5]) torch.Size([64, 1])\n",
      "torch.Size([64]) torch.Size([64, 7, 5]) torch.Size([64, 1])\n",
      "torch.Size([64]) torch.Size([64, 7, 5]) torch.Size([64, 1])\n",
      "torch.Size([64]) torch.Size([64, 7, 5]) torch.Size([64, 1])\n",
      "torch.Size([64]) torch.Size([64, 7, 5]) torch.Size([64, 1])\n",
      "torch.Size([64]) torch.Size([64, 7, 5]) torch.Size([64, 1])\n",
      "torch.Size([64]) torch.Size([64, 7, 5]) torch.Size([64, 1])\n",
      "torch.Size([64]) torch.Size([64, 7, 5]) torch.Size([64, 1])\n",
      "torch.Size([64]) torch.Size([64, 7, 5]) torch.Size([64, 1])\n",
      "torch.Size([64]) torch.Size([64, 7, 5]) torch.Size([64, 1])\n",
      "torch.Size([64]) torch.Size([64, 7, 5]) torch.Size([64, 1])\n",
      "torch.Size([64]) torch.Size([64, 7, 5]) torch.Size([64, 1])\n",
      "torch.Size([64]) torch.Size([64, 7, 5]) torch.Size([64, 1])\n",
      "torch.Size([64]) torch.Size([64, 7, 5]) torch.Size([64, 1])\n",
      "torch.Size([64]) torch.Size([64, 7, 5]) torch.Size([64, 1])\n",
      "torch.Size([64]) torch.Size([64, 7, 5]) torch.Size([64, 1])\n",
      "torch.Size([64]) torch.Size([64, 7, 5]) torch.Size([64, 1])\n",
      "torch.Size([64]) torch.Size([64, 7, 5]) torch.Size([64, 1])\n",
      "torch.Size([64]) torch.Size([64, 7, 5]) torch.Size([64, 1])\n",
      "torch.Size([64]) torch.Size([64, 7, 5]) torch.Size([64, 1])\n",
      "torch.Size([64]) torch.Size([64, 7, 5]) torch.Size([64, 1])\n",
      "torch.Size([64]) torch.Size([64, 7, 5]) torch.Size([64, 1])\n",
      "torch.Size([64]) torch.Size([64, 7, 5]) torch.Size([64, 1])\n",
      "torch.Size([64]) torch.Size([64, 7, 5]) torch.Size([64, 1])\n",
      "torch.Size([64]) torch.Size([64, 7, 5]) torch.Size([64, 1])\n",
      "torch.Size([64]) torch.Size([64, 7, 5]) torch.Size([64, 1])\n",
      "torch.Size([64]) torch.Size([64, 7, 5]) torch.Size([64, 1])\n",
      "torch.Size([64]) torch.Size([64, 7, 5]) torch.Size([64, 1])\n",
      "torch.Size([64]) torch.Size([64, 7, 5]) torch.Size([64, 1])\n",
      "torch.Size([64]) torch.Size([64, 7, 5]) torch.Size([64, 1])\n",
      "torch.Size([64]) torch.Size([64, 7, 5]) torch.Size([64, 1])\n",
      "torch.Size([64]) torch.Size([64, 7, 5]) torch.Size([64, 1])\n",
      "torch.Size([64]) torch.Size([64, 7, 5]) torch.Size([64, 1])\n",
      "torch.Size([64]) torch.Size([64, 7, 5]) torch.Size([64, 1])\n",
      "torch.Size([64]) torch.Size([64, 7, 5]) torch.Size([64, 1])\n",
      "torch.Size([64]) torch.Size([64, 7, 5]) torch.Size([64, 1])\n",
      "torch.Size([64]) torch.Size([64, 7, 5]) torch.Size([64, 1])\n",
      "torch.Size([64]) torch.Size([64, 7, 5]) torch.Size([64, 1])\n",
      "torch.Size([64]) torch.Size([64, 7, 5]) torch.Size([64, 1])\n",
      "torch.Size([64]) torch.Size([64, 7, 5]) torch.Size([64, 1])\n",
      "torch.Size([64]) torch.Size([64, 7, 5]) torch.Size([64, 1])\n",
      "torch.Size([64]) torch.Size([64, 7, 5]) torch.Size([64, 1])\n",
      "torch.Size([64]) torch.Size([64, 7, 5]) torch.Size([64, 1])\n",
      "torch.Size([64]) torch.Size([64, 7, 5]) torch.Size([64, 1])\n",
      "torch.Size([64]) torch.Size([64, 7, 5]) torch.Size([64, 1])\n",
      "torch.Size([64]) torch.Size([64, 7, 5]) torch.Size([64, 1])\n",
      "torch.Size([64]) torch.Size([64, 7, 5]) torch.Size([64, 1])\n",
      "torch.Size([64]) torch.Size([64, 7, 5]) torch.Size([64, 1])\n",
      "torch.Size([64]) torch.Size([64, 7, 5]) torch.Size([64, 1])\n",
      "torch.Size([64]) torch.Size([64, 7, 5]) torch.Size([64, 1])\n",
      "torch.Size([64]) torch.Size([64, 7, 5]) torch.Size([64, 1])\n",
      "torch.Size([64]) torch.Size([64, 7, 5]) torch.Size([64, 1])\n",
      "torch.Size([64]) torch.Size([64, 7, 5]) torch.Size([64, 1])\n",
      "torch.Size([64]) torch.Size([64, 7, 5]) torch.Size([64, 1])\n",
      "torch.Size([64]) torch.Size([64, 7, 5]) torch.Size([64, 1])\n",
      "torch.Size([64]) torch.Size([64, 7, 5]) torch.Size([64, 1])\n",
      "torch.Size([64]) torch.Size([64, 7, 5]) torch.Size([64, 1])\n",
      "torch.Size([64]) torch.Size([64, 7, 5]) torch.Size([64, 1])\n",
      "torch.Size([64]) torch.Size([64, 7, 5]) torch.Size([64, 1])\n",
      "torch.Size([64]) torch.Size([64, 7, 5]) torch.Size([64, 1])\n",
      "torch.Size([64]) torch.Size([64, 7, 5]) torch.Size([64, 1])\n",
      "torch.Size([64]) torch.Size([64, 7, 5]) torch.Size([64, 1])\n",
      "torch.Size([64]) torch.Size([64, 7, 5]) torch.Size([64, 1])\n",
      "torch.Size([64]) torch.Size([64, 7, 5]) torch.Size([64, 1])\n",
      "torch.Size([64]) torch.Size([64, 7, 5]) torch.Size([64, 1])\n",
      "torch.Size([64]) torch.Size([64, 7, 5]) torch.Size([64, 1])\n",
      "torch.Size([64]) torch.Size([64, 7, 5]) torch.Size([64, 1])\n",
      "torch.Size([64]) torch.Size([64, 7, 5]) torch.Size([64, 1])\n",
      "torch.Size([64]) torch.Size([64, 7, 5]) torch.Size([64, 1])\n",
      "torch.Size([64]) torch.Size([64, 7, 5]) torch.Size([64, 1])\n",
      "torch.Size([64]) torch.Size([64, 7, 5]) torch.Size([64, 1])\n",
      "torch.Size([64]) torch.Size([64, 7, 5]) torch.Size([64, 1])\n",
      "torch.Size([64]) torch.Size([64, 7, 5]) torch.Size([64, 1])\n",
      "torch.Size([64]) torch.Size([64, 7, 5]) torch.Size([64, 1])\n",
      "torch.Size([64]) torch.Size([64, 7, 5]) torch.Size([64, 1])\n",
      "torch.Size([64]) torch.Size([64, 7, 5]) torch.Size([64, 1])\n",
      "torch.Size([64]) torch.Size([64, 7, 5]) torch.Size([64, 1])\n",
      "torch.Size([64]) torch.Size([64, 7, 5]) torch.Size([64, 1])\n",
      "torch.Size([64]) torch.Size([64, 7, 5]) torch.Size([64, 1])\n",
      "torch.Size([64]) torch.Size([64, 7, 5]) torch.Size([64, 1])\n",
      "torch.Size([64]) torch.Size([64, 7, 5]) torch.Size([64, 1])\n",
      "torch.Size([64]) torch.Size([64, 7, 5]) torch.Size([64, 1])\n",
      "torch.Size([64]) torch.Size([64, 7, 5]) torch.Size([64, 1])\n",
      "torch.Size([64]) torch.Size([64, 7, 5]) torch.Size([64, 1])\n",
      "torch.Size([64]) torch.Size([64, 7, 5]) torch.Size([64, 1])\n",
      "torch.Size([64]) torch.Size([64, 7, 5]) torch.Size([64, 1])\n",
      "torch.Size([64]) torch.Size([64, 7, 5]) torch.Size([64, 1])\n",
      "torch.Size([64]) torch.Size([64, 7, 5]) torch.Size([64, 1])\n",
      "torch.Size([64]) torch.Size([64, 7, 5]) torch.Size([64, 1])\n",
      "torch.Size([64]) torch.Size([64, 7, 5]) torch.Size([64, 1])\n",
      "torch.Size([64]) torch.Size([64, 7, 5]) torch.Size([64, 1])\n",
      "torch.Size([64]) torch.Size([64, 7, 5]) torch.Size([64, 1])\n",
      "torch.Size([64]) torch.Size([64, 7, 5]) torch.Size([64, 1])\n",
      "torch.Size([64]) torch.Size([64, 7, 5]) torch.Size([64, 1])\n",
      "torch.Size([64]) torch.Size([64, 7, 5]) torch.Size([64, 1])\n",
      "torch.Size([64]) torch.Size([64, 7, 5]) torch.Size([64, 1])\n",
      "torch.Size([64]) torch.Size([64, 7, 5]) torch.Size([64, 1])\n",
      "torch.Size([64]) torch.Size([64, 7, 5]) torch.Size([64, 1])\n",
      "torch.Size([64]) torch.Size([64, 7, 5]) torch.Size([64, 1])\n",
      "torch.Size([64]) torch.Size([64, 7, 5]) torch.Size([64, 1])\n",
      "torch.Size([64]) torch.Size([64, 7, 5]) torch.Size([64, 1])\n",
      "torch.Size([64]) torch.Size([64, 7, 5]) torch.Size([64, 1])\n",
      "torch.Size([64]) torch.Size([64, 7, 5]) torch.Size([64, 1])\n",
      "torch.Size([64]) torch.Size([64, 7, 5]) torch.Size([64, 1])\n",
      "torch.Size([64]) torch.Size([64, 7, 5]) torch.Size([64, 1])\n",
      "torch.Size([64]) torch.Size([64, 7, 5]) torch.Size([64, 1])\n",
      "torch.Size([64]) torch.Size([64, 7, 5]) torch.Size([64, 1])\n",
      "torch.Size([64]) torch.Size([64, 7, 5]) torch.Size([64, 1])\n",
      "torch.Size([64]) torch.Size([64, 7, 5]) torch.Size([64, 1])\n",
      "torch.Size([64]) torch.Size([64, 7, 5]) torch.Size([64, 1])\n",
      "torch.Size([64]) torch.Size([64, 7, 5]) torch.Size([64, 1])\n",
      "torch.Size([64]) torch.Size([64, 7, 5]) torch.Size([64, 1])\n",
      "torch.Size([64]) torch.Size([64, 7, 5]) torch.Size([64, 1])\n",
      "torch.Size([64]) torch.Size([64, 7, 5]) torch.Size([64, 1])\n",
      "torch.Size([64]) torch.Size([64, 7, 5]) torch.Size([64, 1])\n",
      "torch.Size([64]) torch.Size([64, 7, 5]) torch.Size([64, 1])\n",
      "torch.Size([64]) torch.Size([64, 7, 5]) torch.Size([64, 1])\n",
      "torch.Size([64]) torch.Size([64, 7, 5]) torch.Size([64, 1])\n",
      "torch.Size([64]) torch.Size([64, 7, 5]) torch.Size([64, 1])\n",
      "torch.Size([64]) torch.Size([64, 7, 5]) torch.Size([64, 1])\n",
      "torch.Size([64]) torch.Size([64, 7, 5]) torch.Size([64, 1])\n",
      "torch.Size([64]) torch.Size([64, 7, 5]) torch.Size([64, 1])\n",
      "torch.Size([64]) torch.Size([64, 7, 5]) torch.Size([64, 1])\n",
      "torch.Size([64]) torch.Size([64, 7, 5]) torch.Size([64, 1])\n",
      "torch.Size([64]) torch.Size([64, 7, 5]) torch.Size([64, 1])\n",
      "torch.Size([2]) torch.Size([2, 7, 5]) torch.Size([2, 1])\n"
     ]
    }
   ],
   "source": [
    "for batch in camels_ds.get_dataloader(random_station):\n",
    "    print(batch[0].shape, batch[1].shape, batch[2].shape)"
   ]
  },
  {
   "cell_type": "code",
   "execution_count": null,
   "metadata": {},
   "outputs": [],
   "source": []
  },
  {
   "cell_type": "code",
   "execution_count": null,
   "metadata": {},
   "outputs": [],
   "source": []
  }
 ],
 "metadata": {
  "kernelspec": {
   "display_name": "Python 3 (ipykernel) (hydroml)",
   "language": "python",
   "name": "conda_hydroml_python3"
  },
  "language_info": {
   "codemirror_mode": {
    "name": "ipython",
    "version": 3
   },
   "file_extension": ".py",
   "mimetype": "text/x-python",
   "name": "python",
   "nbconvert_exporter": "python",
   "pygments_lexer": "ipython3",
   "version": "3.9.12"
  },
  "vscode": {
   "interpreter": {
    "hash": "d4d1e4263499bec80672ea0156c357c1ee493ec2b1c70f0acce89fc37c4a6abe"
   }
  }
 },
 "nbformat": 4,
 "nbformat_minor": 4
}
