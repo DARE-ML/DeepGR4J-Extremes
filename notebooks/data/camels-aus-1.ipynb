{
 "cells": [
  {
   "attachments": {},
   "cell_type": "markdown",
   "metadata": {},
   "source": [
    "## Working with CAMELS dataset in Python"
   ]
  },
  {
   "cell_type": "code",
   "execution_count": 16,
   "metadata": {},
   "outputs": [],
   "source": [
    "import os\n",
    "import sys\n",
    "\n",
    "import pandas as pd\n",
    "import datetime as dt\n",
    "import matplotlib.pyplot as plt\n",
    "import seaborn as sns\n",
    "\n",
    "import torch\n",
    "import torch.utils.data as data\n",
    "\n",
    "from sklearn.preprocessing import StandardScaler\n",
    "from sklearn.model_selection import train_test_split\n",
    "\n",
    "from camels_aus.repository import CamelsAus, download_camels_aus"
   ]
  },
  {
   "cell_type": "code",
   "execution_count": 18,
   "metadata": {},
   "outputs": [
    {
     "name": "stdout",
     "output_type": "stream",
     "text": [
      "INFO: ../../data/camels/aus/01_id_name_metadata.zip already exists, skipping download\n",
      "INFO: ../../data/camels/aus/02_location_boundary_area.zip already exists, skipping download\n",
      "INFO: ../../data/camels/aus/03_streamflow.zip already exists, skipping download\n",
      "INFO: ../../data/camels/aus/04_attributes.zip already exists, skipping download\n",
      "INFO: ../../data/camels/aus/05_hydrometeorology.zip already exists, skipping download\n",
      "INFO: ../../data/camels/aus/CAMELS_AUS_Attributes-Indices_MasterTable.csv already exists, skipping download\n",
      "INFO: ../../data/camels/aus/CAMELS_AUS_ReferenceList.pdf already exists, skipping download\n",
      "INFO: ../../data/camels/aus/Units_01_TimeseriesData.pdf already exists, skipping download\n",
      "INFO: ../../data/camels/aus/Units_02_AttributeMasterTable.pdf already exists, skipping download\n",
      "INFO: ../../data/camels/aus/01_id_name_metadata already exists, skipping extraction\n",
      "INFO: ../../data/camels/aus/02_location_boundary_area already exists, skipping extraction\n",
      "INFO: ../../data/camels/aus/03_streamflow already exists, skipping extraction\n",
      "INFO: ../../data/camels/aus/04_attributes already exists, skipping extraction\n",
      "INFO: ../../data/camels/aus/05_hydrometeorology already exists, skipping extraction\n"
     ]
    }
   ],
   "source": [
    "repo = CamelsAus()\n",
    "data_dir = '../../data/camels/aus/'\n",
    "download_camels_aus(data_dir)"
   ]
  },
  {
   "cell_type": "code",
   "execution_count": 19,
   "metadata": {},
   "outputs": [],
   "source": [
    "sys.path.append('../../')\n",
    "from data.camels_dataset import CamelsAusDataset"
   ]
  },
  {
   "cell_type": "code",
   "execution_count": 20,
   "metadata": {},
   "outputs": [],
   "source": [
    "camels_ds = CamelsAusDataset(\n",
    "    data_dir=data_dir,\n",
    "    scale=True, \n",
    "    create_seq=True\n",
    ")"
   ]
  },
  {
   "cell_type": "code",
   "execution_count": 21,
   "metadata": {},
   "outputs": [],
   "source": [
    "import random\n",
    "\n",
    "random_station = random.choice(camels_ds.stations)"
   ]
  },
  {
   "cell_type": "code",
   "execution_count": 22,
   "metadata": {},
   "outputs": [
    {
     "data": {
      "text/plain": [
       "136"
      ]
     },
     "execution_count": 22,
     "metadata": {},
     "output_type": "execute_result"
    }
   ],
   "source": [
    "len(camels_ds.get_dataloader(random_station))"
   ]
  },
  {
   "cell_type": "code",
   "execution_count": 23,
   "metadata": {},
   "outputs": [
    {
     "data": {
      "text/plain": [
       "59"
      ]
     },
     "execution_count": 23,
     "metadata": {},
     "output_type": "execute_result"
    }
   ],
   "source": [
    "len(camels_ds.get_dataloader(random_station, train=False, shuffle=False))"
   ]
  },
  {
   "cell_type": "code",
   "execution_count": 29,
   "metadata": {},
   "outputs": [
    {
     "name": "stdout",
     "output_type": "stream",
     "text": [
      "torch.Size([64]) torch.Size([64, 7, 5]) torch.Size([64, 1])\n",
      "torch.Size([64]) torch.Size([64, 7, 5]) torch.Size([64, 1])\n",
      "torch.Size([64]) torch.Size([64, 7, 5]) torch.Size([64, 1])\n",
      "torch.Size([64]) torch.Size([64, 7, 5]) torch.Size([64, 1])\n",
      "torch.Size([64]) torch.Size([64, 7, 5]) torch.Size([64, 1])\n",
      "torch.Size([64]) torch.Size([64, 7, 5]) torch.Size([64, 1])\n",
      "torch.Size([64]) torch.Size([64, 7, 5]) torch.Size([64, 1])\n",
      "torch.Size([64]) torch.Size([64, 7, 5]) torch.Size([64, 1])\n",
      "torch.Size([64]) torch.Size([64, 7, 5]) torch.Size([64, 1])\n",
      "torch.Size([64]) torch.Size([64, 7, 5]) torch.Size([64, 1])\n",
      "torch.Size([64]) torch.Size([64, 7, 5]) torch.Size([64, 1])\n",
      "torch.Size([64]) torch.Size([64, 7, 5]) torch.Size([64, 1])\n",
      "torch.Size([64]) torch.Size([64, 7, 5]) torch.Size([64, 1])\n",
      "torch.Size([64]) torch.Size([64, 7, 5]) torch.Size([64, 1])\n",
      "torch.Size([64]) torch.Size([64, 7, 5]) torch.Size([64, 1])\n",
      "torch.Size([64]) torch.Size([64, 7, 5]) torch.Size([64, 1])\n",
      "torch.Size([64]) torch.Size([64, 7, 5]) torch.Size([64, 1])\n",
      "torch.Size([64]) torch.Size([64, 7, 5]) torch.Size([64, 1])\n",
      "torch.Size([64]) torch.Size([64, 7, 5]) torch.Size([64, 1])\n",
      "torch.Size([64]) torch.Size([64, 7, 5]) torch.Size([64, 1])\n",
      "torch.Size([64]) torch.Size([64, 7, 5]) torch.Size([64, 1])\n",
      "torch.Size([64]) torch.Size([64, 7, 5]) torch.Size([64, 1])\n",
      "torch.Size([64]) torch.Size([64, 7, 5]) torch.Size([64, 1])\n",
      "torch.Size([64]) torch.Size([64, 7, 5]) torch.Size([64, 1])\n",
      "torch.Size([64]) torch.Size([64, 7, 5]) torch.Size([64, 1])\n",
      "torch.Size([64]) torch.Size([64, 7, 5]) torch.Size([64, 1])\n",
      "torch.Size([64]) torch.Size([64, 7, 5]) torch.Size([64, 1])\n",
      "torch.Size([64]) torch.Size([64, 7, 5]) torch.Size([64, 1])\n",
      "torch.Size([64]) torch.Size([64, 7, 5]) torch.Size([64, 1])\n",
      "torch.Size([64]) torch.Size([64, 7, 5]) torch.Size([64, 1])\n",
      "torch.Size([64]) torch.Size([64, 7, 5]) torch.Size([64, 1])\n",
      "torch.Size([64]) torch.Size([64, 7, 5]) torch.Size([64, 1])\n",
      "torch.Size([64]) torch.Size([64, 7, 5]) torch.Size([64, 1])\n",
      "torch.Size([64]) torch.Size([64, 7, 5]) torch.Size([64, 1])\n",
      "torch.Size([64]) torch.Size([64, 7, 5]) torch.Size([64, 1])\n",
      "torch.Size([64]) torch.Size([64, 7, 5]) torch.Size([64, 1])\n",
      "torch.Size([64]) torch.Size([64, 7, 5]) torch.Size([64, 1])\n",
      "torch.Size([64]) torch.Size([64, 7, 5]) torch.Size([64, 1])\n",
      "torch.Size([64]) torch.Size([64, 7, 5]) torch.Size([64, 1])\n",
      "torch.Size([64]) torch.Size([64, 7, 5]) torch.Size([64, 1])\n",
      "torch.Size([64]) torch.Size([64, 7, 5]) torch.Size([64, 1])\n",
      "torch.Size([64]) torch.Size([64, 7, 5]) torch.Size([64, 1])\n",
      "torch.Size([64]) torch.Size([64, 7, 5]) torch.Size([64, 1])\n",
      "torch.Size([64]) torch.Size([64, 7, 5]) torch.Size([64, 1])\n",
      "torch.Size([64]) torch.Size([64, 7, 5]) torch.Size([64, 1])\n",
      "torch.Size([64]) torch.Size([64, 7, 5]) torch.Size([64, 1])\n",
      "torch.Size([64]) torch.Size([64, 7, 5]) torch.Size([64, 1])\n",
      "torch.Size([64]) torch.Size([64, 7, 5]) torch.Size([64, 1])\n",
      "torch.Size([64]) torch.Size([64, 7, 5]) torch.Size([64, 1])\n",
      "torch.Size([64]) torch.Size([64, 7, 5]) torch.Size([64, 1])\n",
      "torch.Size([64]) torch.Size([64, 7, 5]) torch.Size([64, 1])\n",
      "torch.Size([64]) torch.Size([64, 7, 5]) torch.Size([64, 1])\n",
      "torch.Size([64]) torch.Size([64, 7, 5]) torch.Size([64, 1])\n",
      "torch.Size([64]) torch.Size([64, 7, 5]) torch.Size([64, 1])\n",
      "torch.Size([64]) torch.Size([64, 7, 5]) torch.Size([64, 1])\n",
      "torch.Size([64]) torch.Size([64, 7, 5]) torch.Size([64, 1])\n",
      "torch.Size([64]) torch.Size([64, 7, 5]) torch.Size([64, 1])\n",
      "torch.Size([64]) torch.Size([64, 7, 5]) torch.Size([64, 1])\n",
      "torch.Size([64]) torch.Size([64, 7, 5]) torch.Size([64, 1])\n",
      "torch.Size([64]) torch.Size([64, 7, 5]) torch.Size([64, 1])\n",
      "torch.Size([64]) torch.Size([64, 7, 5]) torch.Size([64, 1])\n",
      "torch.Size([64]) torch.Size([64, 7, 5]) torch.Size([64, 1])\n",
      "torch.Size([64]) torch.Size([64, 7, 5]) torch.Size([64, 1])\n",
      "torch.Size([64]) torch.Size([64, 7, 5]) torch.Size([64, 1])\n",
      "torch.Size([64]) torch.Size([64, 7, 5]) torch.Size([64, 1])\n",
      "torch.Size([64]) torch.Size([64, 7, 5]) torch.Size([64, 1])\n",
      "torch.Size([64]) torch.Size([64, 7, 5]) torch.Size([64, 1])\n",
      "torch.Size([64]) torch.Size([64, 7, 5]) torch.Size([64, 1])\n",
      "torch.Size([64]) torch.Size([64, 7, 5]) torch.Size([64, 1])\n",
      "torch.Size([64]) torch.Size([64, 7, 5]) torch.Size([64, 1])\n",
      "torch.Size([64]) torch.Size([64, 7, 5]) torch.Size([64, 1])\n",
      "torch.Size([64]) torch.Size([64, 7, 5]) torch.Size([64, 1])\n",
      "torch.Size([64]) torch.Size([64, 7, 5]) torch.Size([64, 1])\n",
      "torch.Size([64]) torch.Size([64, 7, 5]) torch.Size([64, 1])\n",
      "torch.Size([64]) torch.Size([64, 7, 5]) torch.Size([64, 1])\n",
      "torch.Size([64]) torch.Size([64, 7, 5]) torch.Size([64, 1])\n",
      "torch.Size([64]) torch.Size([64, 7, 5]) torch.Size([64, 1])\n",
      "torch.Size([64]) torch.Size([64, 7, 5]) torch.Size([64, 1])\n",
      "torch.Size([64]) torch.Size([64, 7, 5]) torch.Size([64, 1])\n",
      "torch.Size([64]) torch.Size([64, 7, 5]) torch.Size([64, 1])\n",
      "torch.Size([64]) torch.Size([64, 7, 5]) torch.Size([64, 1])\n",
      "torch.Size([64]) torch.Size([64, 7, 5]) torch.Size([64, 1])\n",
      "torch.Size([64]) torch.Size([64, 7, 5]) torch.Size([64, 1])\n",
      "torch.Size([64]) torch.Size([64, 7, 5]) torch.Size([64, 1])\n",
      "torch.Size([64]) torch.Size([64, 7, 5]) torch.Size([64, 1])\n",
      "torch.Size([64]) torch.Size([64, 7, 5]) torch.Size([64, 1])\n",
      "torch.Size([64]) torch.Size([64, 7, 5]) torch.Size([64, 1])\n",
      "torch.Size([64]) torch.Size([64, 7, 5]) torch.Size([64, 1])\n",
      "torch.Size([64]) torch.Size([64, 7, 5]) torch.Size([64, 1])\n",
      "torch.Size([64]) torch.Size([64, 7, 5]) torch.Size([64, 1])\n",
      "torch.Size([64]) torch.Size([64, 7, 5]) torch.Size([64, 1])\n",
      "torch.Size([64]) torch.Size([64, 7, 5]) torch.Size([64, 1])\n",
      "torch.Size([64]) torch.Size([64, 7, 5]) torch.Size([64, 1])\n",
      "torch.Size([64]) torch.Size([64, 7, 5]) torch.Size([64, 1])\n",
      "torch.Size([64]) torch.Size([64, 7, 5]) torch.Size([64, 1])\n",
      "torch.Size([64]) torch.Size([64, 7, 5]) torch.Size([64, 1])\n",
      "torch.Size([64]) torch.Size([64, 7, 5]) torch.Size([64, 1])\n",
      "torch.Size([64]) torch.Size([64, 7, 5]) torch.Size([64, 1])\n",
      "torch.Size([64]) torch.Size([64, 7, 5]) torch.Size([64, 1])\n",
      "torch.Size([64]) torch.Size([64, 7, 5]) torch.Size([64, 1])\n",
      "torch.Size([64]) torch.Size([64, 7, 5]) torch.Size([64, 1])\n",
      "torch.Size([64]) torch.Size([64, 7, 5]) torch.Size([64, 1])\n",
      "torch.Size([64]) torch.Size([64, 7, 5]) torch.Size([64, 1])\n",
      "torch.Size([64]) torch.Size([64, 7, 5]) torch.Size([64, 1])\n",
      "torch.Size([64]) torch.Size([64, 7, 5]) torch.Size([64, 1])\n",
      "torch.Size([64]) torch.Size([64, 7, 5]) torch.Size([64, 1])\n",
      "torch.Size([64]) torch.Size([64, 7, 5]) torch.Size([64, 1])\n",
      "torch.Size([64]) torch.Size([64, 7, 5]) torch.Size([64, 1])\n",
      "torch.Size([64]) torch.Size([64, 7, 5]) torch.Size([64, 1])\n",
      "torch.Size([64]) torch.Size([64, 7, 5]) torch.Size([64, 1])\n",
      "torch.Size([64]) torch.Size([64, 7, 5]) torch.Size([64, 1])\n",
      "torch.Size([64]) torch.Size([64, 7, 5]) torch.Size([64, 1])\n",
      "torch.Size([64]) torch.Size([64, 7, 5]) torch.Size([64, 1])\n",
      "torch.Size([64]) torch.Size([64, 7, 5]) torch.Size([64, 1])\n",
      "torch.Size([64]) torch.Size([64, 7, 5]) torch.Size([64, 1])\n",
      "torch.Size([64]) torch.Size([64, 7, 5]) torch.Size([64, 1])\n",
      "torch.Size([64]) torch.Size([64, 7, 5]) torch.Size([64, 1])\n",
      "torch.Size([64]) torch.Size([64, 7, 5]) torch.Size([64, 1])\n",
      "torch.Size([64]) torch.Size([64, 7, 5]) torch.Size([64, 1])\n",
      "torch.Size([64]) torch.Size([64, 7, 5]) torch.Size([64, 1])\n",
      "torch.Size([64]) torch.Size([64, 7, 5]) torch.Size([64, 1])\n",
      "torch.Size([64]) torch.Size([64, 7, 5]) torch.Size([64, 1])\n",
      "torch.Size([64]) torch.Size([64, 7, 5]) torch.Size([64, 1])\n",
      "torch.Size([64]) torch.Size([64, 7, 5]) torch.Size([64, 1])\n",
      "torch.Size([64]) torch.Size([64, 7, 5]) torch.Size([64, 1])\n",
      "torch.Size([64]) torch.Size([64, 7, 5]) torch.Size([64, 1])\n",
      "torch.Size([64]) torch.Size([64, 7, 5]) torch.Size([64, 1])\n",
      "torch.Size([64]) torch.Size([64, 7, 5]) torch.Size([64, 1])\n",
      "torch.Size([64]) torch.Size([64, 7, 5]) torch.Size([64, 1])\n",
      "torch.Size([64]) torch.Size([64, 7, 5]) torch.Size([64, 1])\n",
      "torch.Size([64]) torch.Size([64, 7, 5]) torch.Size([64, 1])\n",
      "torch.Size([64]) torch.Size([64, 7, 5]) torch.Size([64, 1])\n",
      "torch.Size([64]) torch.Size([64, 7, 5]) torch.Size([64, 1])\n",
      "torch.Size([64]) torch.Size([64, 7, 5]) torch.Size([64, 1])\n",
      "torch.Size([64]) torch.Size([64, 7, 5]) torch.Size([64, 1])\n",
      "torch.Size([49]) torch.Size([49, 7, 5]) torch.Size([49, 1])\n"
     ]
    }
   ],
   "source": [
    "for batch in camels_ds.get_dataloader(random_station):\n",
    "    print(batch[0].shape, batch[1].shape, batch[2].shape)"
   ]
  },
  {
   "cell_type": "code",
   "execution_count": null,
   "metadata": {},
   "outputs": [],
   "source": []
  },
  {
   "cell_type": "code",
   "execution_count": null,
   "metadata": {},
   "outputs": [],
   "source": []
  }
 ],
 "metadata": {
  "kernelspec": {
   "display_name": "base",
   "language": "python",
   "name": "python3"
  },
  "language_info": {
   "codemirror_mode": {
    "name": "ipython",
    "version": 3
   },
   "file_extension": ".py",
   "mimetype": "text/x-python",
   "name": "python",
   "nbconvert_exporter": "python",
   "pygments_lexer": "ipython3",
   "version": "3.10.14"
  },
  "orig_nbformat": 4,
  "vscode": {
   "interpreter": {
    "hash": "d4d1e4263499bec80672ea0156c357c1ee493ec2b1c70f0acce89fc37c4a6abe"
   }
  }
 },
 "nbformat": 4,
 "nbformat_minor": 2
}
