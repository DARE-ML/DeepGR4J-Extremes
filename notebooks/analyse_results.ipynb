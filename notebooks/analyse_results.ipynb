{
 "cells": [
  {
   "cell_type": "code",
   "execution_count": 1,
   "id": "523fa7fd-88c5-4ec0-9fec-f465e2b256b6",
   "metadata": {},
   "outputs": [],
   "source": [
    "import os\n",
    "import numpy as np\n",
    "import pandas as pd"
   ]
  },
  {
   "cell_type": "code",
   "execution_count": 148,
   "id": "a323240d-e127-48be-bdc1-4ebd47b5f6a6",
   "metadata": {},
   "outputs": [],
   "source": [
    "results_dir = '/srv/scratch/z5370003/projects/03_extremes/DeepGR4J-Extremes/results/top5_comparison/'"
   ]
  },
  {
   "cell_type": "code",
   "execution_count": 149,
   "id": "73f083ae-ce83-4b2f-8174-731c0cc6c5c4",
   "metadata": {},
   "outputs": [],
   "source": [
    "def get_avg_results(results_dir):\n",
    "\n",
    "    models = os.listdir(results_dir)\n",
    "    \n",
    "    avg_results = []\n",
    "    \n",
    "    for model in models:\n",
    "    \n",
    "        model_dir = os.path.join(results_dir, model)\n",
    "        states = os.listdir(model_dir)\n",
    "    \n",
    "        avg_model_results = []\n",
    "        \n",
    "        for state in states:\n",
    "            \n",
    "            state_results = pd.read_csv(os.path.join(model_dir, state, 'results.csv'), index_col='Unnamed: 0')\n",
    "            state_results = state_results.set_index(['Metric', 'Quantile', 'Dataset']).mean(axis=1).reset_index().rename(columns={0:state})\n",
    "            state_results = state_results.loc[(state_results.Quantile==0.5) | (state_results.Quantile.isnull())].drop(columns=['Quantile']).sort_values(by='Metric')\n",
    "            state_results = state_results.set_index(['Metric', 'Dataset']).T\n",
    "            state_results.index.name = 'State'\n",
    "        \n",
    "            avg_model_results.append(state_results.reset_index())\n",
    "        \n",
    "        \n",
    "        avg_model_results = pd.concat(avg_model_results)\n",
    "        avg_model_results[('RMSE', 'train')] = np.sqrt(avg_model_results[('MSE', 'train')])\n",
    "        avg_model_results[('RMSE', 'validation')] = np.sqrt(avg_model_results[('MSE', 'validation')])\n",
    "        \n",
    "        \n",
    "        avg_model_results = avg_model_results[['State', 'RMSE', 'NSE', 'Confidence Score']]\n",
    "        avg_model_results.loc[:, 'Model'] = model\n",
    "        avg_results.append(avg_model_results)\n",
    "    \n",
    "    \n",
    "    avg_results = pd.concat(avg_results).sort_values(['State', 'Model']).set_index(['State', 'Model'])\n",
    "    avg_results = avg_results[['RMSE', 'NSE', 'Confidence Score']]\n",
    "\n",
    "    return avg_results"
   ]
  },
  {
   "cell_type": "code",
   "execution_count": null,
   "id": "809b00ae-2170-4d99-b3cb-228415ca2549",
   "metadata": {},
   "outputs": [],
   "source": []
  },
  {
   "cell_type": "code",
   "execution_count": null,
   "id": "d6d8f66d-56ac-4960-b3b6-1aaa1e44101d",
   "metadata": {},
   "outputs": [],
   "source": []
  },
  {
   "cell_type": "code",
   "execution_count": 151,
   "id": "310b098b-1506-42e8-9b18-ba258c8b4fc5",
   "metadata": {},
   "outputs": [
    {
     "name": "stdout",
     "output_type": "stream",
     "text": [
      "\\begin{tabular}{llrrrrrr}\n",
      "\\toprule\n",
      " & Metric & \\multicolumn{2}{r}{RMSE} & \\multicolumn{2}{r}{NSE} & \\multicolumn{2}{r}{Confidence Score} \\\\\n",
      " & Dataset & train & validation & train & validation & train & validation \\\\\n",
      "State & Model &  &  &  &  &  &  \\\\\n",
      "\\midrule\n",
      "\\multirow[t]{4}{*}{NSW} & cnn & 3.7952 & 2.7044 & 0.3028 & 0.4233 & 3.5332 & 3.9728 \\\\\n",
      " & lstm & 4.3458 & 3.1349 & 0.0675 & 0.1588 & 9.1795 & 6.6946 \\\\\n",
      " & qdeepgr4j_cnn & 3.6323 & 2.6523 & 0.3632 & 0.4379 & 3.0930 & 4.1626 \\\\\n",
      " & qdeepgr4j_lstm & 4.2833 & 3.0742 & 0.0931 & 0.1909 & 9.0296 & 6.5693 \\\\\n",
      "\\cline{1-8}\n",
      "\\multirow[t]{4}{*}{NT} & cnn & 2.2627 & 3.0055 & 0.5778 & 0.5836 & 2.1111 & 4.2026 \\\\\n",
      " & lstm & 2.6709 & 3.4629 & 0.4227 & 0.4420 & 4.5600 & 6.6220 \\\\\n",
      " & qdeepgr4j_cnn & 2.1883 & 2.9701 & 0.6061 & 0.5909 & 1.8246 & 4.3851 \\\\\n",
      " & qdeepgr4j_lstm & 2.6106 & 3.3700 & 0.4420 & 0.4635 & 4.2913 & 6.2252 \\\\\n",
      "\\cline{1-8}\n",
      "\\multirow[t]{4}{*}{QLD} & cnn & 7.4326 & 6.5456 & 0.5562 & 0.5642 & 8.5925 & 12.1544 \\\\\n",
      " & lstm & 9.0420 & 7.7228 & 0.3427 & 0.3966 & 22.6032 & 21.1254 \\\\\n",
      " & qdeepgr4j_cnn & 7.1028 & 6.4750 & 0.5953 & 0.5734 & 7.2333 & 12.8407 \\\\\n",
      " & qdeepgr4j_lstm & 8.8352 & 7.5828 & 0.3693 & 0.4171 & 20.0013 & 18.9005 \\\\\n",
      "\\cline{1-8}\n",
      "\\multirow[t]{4}{*}{SA} & cnn & 0.6552 & 0.5060 & 0.5966 & 0.5270 & 0.6202 & 0.6900 \\\\\n",
      " & lstm & 0.8350 & 0.6013 & 0.3184 & 0.3090 & 1.7547 & 1.1567 \\\\\n",
      " & qdeepgr4j_cnn & 0.6318 & 0.4907 & 0.6254 & 0.5517 & 0.5158 & 0.6761 \\\\\n",
      " & qdeepgr4j_lstm & 0.8111 & 0.5795 & 0.3480 & 0.3518 & 1.5698 & 1.0401 \\\\\n",
      "\\cline{1-8}\n",
      "\\multirow[t]{4}{*}{TAS} & cnn & 2.0703 & 2.1801 & 0.6998 & 0.6758 & 3.8488 & 5.3915 \\\\\n",
      " & lstm & 2.5819 & 2.4798 & 0.5302 & 0.5606 & 8.9736 & 8.4155 \\\\\n",
      " & qdeepgr4j_cnn & 1.9995 & 2.1616 & 0.7249 & 0.6867 & 3.4087 & 5.5849 \\\\\n",
      " & qdeepgr4j_lstm & 2.6153 & 2.5102 & 0.5309 & 0.5674 & 8.4110 & 7.9450 \\\\\n",
      "\\cline{1-8}\n",
      "\\multirow[t]{4}{*}{VIC} & cnn & 1.7139 & 1.1757 & 0.7226 & 0.6958 & 1.7676 & 1.9705 \\\\\n",
      " & lstm & 1.9355 & 1.3369 & 0.6067 & 0.5915 & 4.4162 & 3.4658 \\\\\n",
      " & qdeepgr4j_cnn & 1.6818 & 1.1543 & 0.7361 & 0.7090 & 1.5577 & 1.9682 \\\\\n",
      " & qdeepgr4j_lstm & 1.9030 & 1.2975 & 0.6276 & 0.6196 & 4.2665 & 3.3421 \\\\\n",
      "\\cline{1-8}\n",
      "\\multirow[t]{4}{*}{WA} & cnn & 1.1189 & 1.7566 & 0.6723 & 0.6429 & 0.9631 & 1.6004 \\\\\n",
      " & lstm & 1.2963 & 1.8876 & 0.5365 & 0.5556 & 2.2640 & 2.3984 \\\\\n",
      " & qdeepgr4j_cnn & 1.0568 & 1.7378 & 0.7055 & 0.6507 & 0.8090 & 1.7846 \\\\\n",
      " & qdeepgr4j_lstm & 1.2752 & 1.8666 & 0.5492 & 0.5649 & 2.1199 & 2.3460 \\\\\n",
      "\\cline{1-8}\n",
      "\\bottomrule\n",
      "\\end{tabular}\n",
      "\n"
     ]
    }
   ],
   "source": [
    "top5_results = get_avg_results(results_dir)\n",
    "print(top5_results.to_latex(float_format='%.4f'))\n",
    "# top5_results"
   ]
  },
  {
   "cell_type": "code",
   "execution_count": null,
   "id": "70e4785f-9f08-4414-b1aa-1cc7834caa47",
   "metadata": {},
   "outputs": [],
   "source": []
  },
  {
   "cell_type": "code",
   "execution_count": null,
   "id": "cf992910-bcc9-4ae6-83f1-ae5d1e7aa256",
   "metadata": {},
   "outputs": [],
   "source": []
  },
  {
   "cell_type": "code",
   "execution_count": null,
   "id": "d1cc41d8-8a1c-4416-8b01-aa91e9f1c0b0",
   "metadata": {},
   "outputs": [],
   "source": []
  },
  {
   "cell_type": "code",
   "execution_count": 147,
   "id": "cbe04c71-52cf-486f-9059-404eadb14164",
   "metadata": {},
   "outputs": [
    {
     "name": "stdout",
     "output_type": "stream",
     "text": [
      "\\begin{tabular}{llrrrrrr}\n",
      "\\toprule\n",
      " & Metric & \\multicolumn{2}{r}{RMSE} & \\multicolumn{2}{r}{NSE} & \\multicolumn{2}{r}{Confidence Score} \\\\\n",
      " & Dataset & train & validation & train & validation & train & validation \\\\\n",
      "State & Model &  &  &  &  &  &  \\\\\n",
      "\\midrule\n",
      "\\multirow[t]{4}{*}{SA} & qdeepgr4j_cnn_fillna_2 & 0.4866 & 0.3853 & 0.7104 & 0.6323 & 0.3472 & 0.4561 \\\\\n",
      " & qdeepgr4j_lstm_fillna_2 & 0.6259 & 0.4487 & 0.4852 & 0.4724 & 1.0712 & 0.7078 \\\\\n",
      " & qdeepgr4j_mlp_fillna_2 & 0.5616 & 0.4131 & 0.6499 & 0.6160 & 1.4220 & 0.9338 \\\\\n",
      " & qdeepgr4j_rnn_fillna_2 & 0.6684 & 0.4716 & 0.3386 & 0.3551 & 0.9272 & 0.6244 \\\\\n",
      "\\cline{1-8}\n",
      "\\bottomrule\n",
      "\\end{tabular}\n",
      "\n"
     ]
    }
   ],
   "source": [
    "results_dir = '/srv/scratch/z5370003/projects/03_extremes/DeepGR4J-Extremes/results/arch_comparison/'\n",
    "arch_results = get_avg_results(results_dir)\n",
    "print(arch_results.to_latex(float_format='%.4f'))"
   ]
  },
  {
   "cell_type": "code",
   "execution_count": null,
   "id": "4f8dadbf-147c-4eb4-baf9-09d8645fa1d4",
   "metadata": {},
   "outputs": [],
   "source": []
  },
  {
   "cell_type": "code",
   "execution_count": null,
   "id": "3ef6f051-11b9-44b4-a2ca-0bcec3f38aed",
   "metadata": {},
   "outputs": [],
   "source": []
  },
  {
   "cell_type": "code",
   "execution_count": null,
   "id": "18afcd86-c055-443b-86ae-b8f0fa266702",
   "metadata": {},
   "outputs": [],
   "source": []
  },
  {
   "cell_type": "code",
   "execution_count": null,
   "id": "1ad70845-a0cf-4d8c-9f6f-dc3f3ca0a1f9",
   "metadata": {},
   "outputs": [],
   "source": []
  },
  {
   "cell_type": "code",
   "execution_count": null,
   "id": "7f2783a6-ba2c-41a3-ac65-96db3b62b560",
   "metadata": {},
   "outputs": [],
   "source": []
  },
  {
   "cell_type": "code",
   "execution_count": null,
   "id": "93cc1bcc-1f09-437d-ad0f-acbbe2b195cc",
   "metadata": {},
   "outputs": [],
   "source": []
  },
  {
   "cell_type": "code",
   "execution_count": null,
   "id": "2a7d59bf-e92c-4705-a9d7-2b2fadf6507b",
   "metadata": {},
   "outputs": [],
   "source": []
  }
 ],
 "metadata": {
  "kernelspec": {
   "display_name": "Python 3 (ipykernel) (torch-env)",
   "language": "python",
   "name": "conda_torch-env_python3"
  },
  "language_info": {
   "codemirror_mode": {
    "name": "ipython",
    "version": 3
   },
   "file_extension": ".py",
   "mimetype": "text/x-python",
   "name": "python",
   "nbconvert_exporter": "python",
   "pygments_lexer": "ipython3",
   "version": "3.11.10"
  }
 },
 "nbformat": 4,
 "nbformat_minor": 5
}
