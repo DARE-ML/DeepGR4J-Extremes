{
 "cells": [
  {
   "cell_type": "code",
   "execution_count": 1,
   "id": "523fa7fd-88c5-4ec0-9fec-f465e2b256b6",
   "metadata": {},
   "outputs": [],
   "source": [
    "import pandas as pd"
   ]
  },
  {
   "cell_type": "code",
   "execution_count": 2,
   "id": "e0e174ba-1251-4cb3-bc43-382f3a70efb5",
   "metadata": {},
   "outputs": [],
   "source": [
    "cnn_results_csv = '../results/qdeepgr4j_cnn_qin/result.csv'\n",
    "lstm_results_csv = '../results/qdeepgr4j_lstm_qin/result.csv'"
   ]
  },
  {
   "cell_type": "code",
   "execution_count": 3,
   "id": "7c8b7c23-2a0a-4b25-9d42-93e1ffac5f90",
   "metadata": {},
   "outputs": [],
   "source": [
    "def summarise(results_csv, model_name):\n",
    "    results_df = pd.read_csv(results_csv)\n",
    "    train_conf = results_df.confidence_score.values * 100\n",
    "    val_conf = results_df.confidence_score_val.values * 100\n",
    "    train_conf_mean, train_conf_std = train_conf.mean(), train_conf.std()\n",
    "    val_conf_mean, val_conf_std = val_conf.mean(), val_conf.std()\n",
    "    return {'model': model_name,\n",
    "            'train_conf_mean': train_conf_mean,\n",
    "            'train_conf_std': train_conf_std,\n",
    "            'val_conf_mean': val_conf_mean,\n",
    "            'val_conf_std': val_conf_std}\n",
    "    "
   ]
  },
  {
   "cell_type": "code",
   "execution_count": 4,
   "id": "09abd665-65e1-463c-886e-8a30a53bbd79",
   "metadata": {},
   "outputs": [],
   "source": [
    "cnn_result_summary = summarise(cnn_results_csv, model_name='qdeepgr4j_cnn')\n",
    "lstm_result_summary = summarise(lstm_results_csv, model_name='qdeepgr4j_lstm')"
   ]
  },
  {
   "cell_type": "code",
   "execution_count": 10,
   "id": "b5b90a2a-cc30-49f1-8d39-3ceabf0d10f5",
   "metadata": {},
   "outputs": [
    {
     "name": "stdout",
     "output_type": "stream",
     "text": [
      "\\begin{tabular}{lrrrr}\n",
      " & train_conf_mean & train_conf_std & val_conf_mean & val_conf_std \\\\\n",
      "model &  &  &  &  \\\\\n",
      "qdeepgr4j_cnn & 9.298438 & 6.461928 & 17.007868 & 11.098190 \\\\\n",
      "qdeepgr4j_lstm & 6.633965 & 2.401085 & 12.779525 & 8.184214 \\\\\n",
      "\\end{tabular}\n",
      "\n"
     ]
    }
   ],
   "source": [
    "print(pd.DataFrame([cnn_result_summary, lstm_result_summary]).set_index('model').style.to_latex())"
   ]
  },
  {
   "cell_type": "code",
   "execution_count": null,
   "id": "331cad33-7a83-440d-9697-3ed4f5b40a34",
   "metadata": {},
   "outputs": [],
   "source": []
  }
 ],
 "metadata": {
  "kernelspec": {
   "display_name": "Python 3 (ipykernel) (hydroml)",
   "language": "python",
   "name": "conda_hydroml_python3"
  },
  "language_info": {
   "codemirror_mode": {
    "name": "ipython",
    "version": 3
   },
   "file_extension": ".py",
   "mimetype": "text/x-python",
   "name": "python",
   "nbconvert_exporter": "python",
   "pygments_lexer": "ipython3",
   "version": "3.9.12"
  }
 },
 "nbformat": 4,
 "nbformat_minor": 5
}
