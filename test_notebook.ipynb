{
 "cells": [
  {
   "cell_type": "code",
   "execution_count": 1,
   "metadata": {},
   "outputs": [],
   "source": [
    "import os\n",
    "import ast\n",
    "import pandas as pd\n",
    "import numpy as np\n",
    "import seaborn as sns\n",
    "import matplotlib.pyplot as plt\n",
    "import geopandas as gpd\n",
    "import pickle"
   ]
  },
  {
   "cell_type": "code",
   "execution_count": null,
   "metadata": {},
   "outputs": [],
   "source": []
  },
  {
   "cell_type": "code",
   "execution_count": null,
   "metadata": {},
   "outputs": [],
   "source": []
  },
  {
   "cell_type": "code",
   "execution_count": 2,
   "metadata": {},
   "outputs": [],
   "source": [
    "# base_dir = 'results/flow_cdf'\n",
    "# dirs = os.listdir(base_dir)\n",
    "# dirs = [d for d in dirs if d!='aus']\n",
    "# res_df_list = [pd.read_csv(os.path.join(base_dir, d, 'results.csv')).drop(columns=['Unnamed: 0']) for d in dirs]\n",
    "# res_df = pd.concat(res_df_list)\n",
    "# res_df.station_id = res_df.station_id.apply(lambda x: x[2:-1])\n",
    "# res_df = res_df.set_index('station_id', drop=True)\n",
    "# res_df.mean()"
   ]
  },
  {
   "cell_type": "code",
   "execution_count": 3,
   "metadata": {},
   "outputs": [
    {
     "data": {
      "text/html": [
       "<div>\n",
       "<style scoped>\n",
       "    .dataframe tbody tr th:only-of-type {\n",
       "        vertical-align: middle;\n",
       "    }\n",
       "\n",
       "    .dataframe tbody tr th {\n",
       "        vertical-align: top;\n",
       "    }\n",
       "\n",
       "    .dataframe thead th {\n",
       "        text-align: right;\n",
       "    }\n",
       "</style>\n",
       "<table border=\"1\" class=\"dataframe\">\n",
       "  <thead>\n",
       "    <tr style=\"text-align: right;\">\n",
       "      <th></th>\n",
       "      <th>station_count</th>\n",
       "      <th>train_mse</th>\n",
       "      <th>test_mse</th>\n",
       "      <th>train_r2</th>\n",
       "      <th>test_r2</th>\n",
       "    </tr>\n",
       "    <tr>\n",
       "      <th>state</th>\n",
       "      <th></th>\n",
       "      <th></th>\n",
       "      <th></th>\n",
       "      <th></th>\n",
       "      <th></th>\n",
       "    </tr>\n",
       "  </thead>\n",
       "  <tbody>\n",
       "    <tr>\n",
       "      <th>TAS</th>\n",
       "      <td>12</td>\n",
       "      <td>0.015954</td>\n",
       "      <td>0.017407</td>\n",
       "      <td>0.807381</td>\n",
       "      <td>0.794966</td>\n",
       "    </tr>\n",
       "    <tr>\n",
       "      <th>WA</th>\n",
       "      <td>16</td>\n",
       "      <td>0.020130</td>\n",
       "      <td>0.034638</td>\n",
       "      <td>0.762465</td>\n",
       "      <td>0.477148</td>\n",
       "    </tr>\n",
       "    <tr>\n",
       "      <th>ACT</th>\n",
       "      <td>3</td>\n",
       "      <td>0.022527</td>\n",
       "      <td>0.036275</td>\n",
       "      <td>0.730990</td>\n",
       "      <td>0.550968</td>\n",
       "    </tr>\n",
       "    <tr>\n",
       "      <th>VIC</th>\n",
       "      <td>72</td>\n",
       "      <td>0.024969</td>\n",
       "      <td>0.039703</td>\n",
       "      <td>0.700197</td>\n",
       "      <td>0.434680</td>\n",
       "    </tr>\n",
       "    <tr>\n",
       "      <th>NSW</th>\n",
       "      <td>33</td>\n",
       "      <td>0.037082</td>\n",
       "      <td>0.042965</td>\n",
       "      <td>0.557506</td>\n",
       "      <td>0.444883</td>\n",
       "    </tr>\n",
       "    <tr>\n",
       "      <th>QLD</th>\n",
       "      <td>61</td>\n",
       "      <td>0.038239</td>\n",
       "      <td>0.046336</td>\n",
       "      <td>0.541748</td>\n",
       "      <td>0.292188</td>\n",
       "    </tr>\n",
       "    <tr>\n",
       "      <th>NT</th>\n",
       "      <td>16</td>\n",
       "      <td>0.038216</td>\n",
       "      <td>0.048754</td>\n",
       "      <td>0.558492</td>\n",
       "      <td>-0.130242</td>\n",
       "    </tr>\n",
       "    <tr>\n",
       "      <th>SA</th>\n",
       "      <td>9</td>\n",
       "      <td>0.032740</td>\n",
       "      <td>0.049900</td>\n",
       "      <td>0.592578</td>\n",
       "      <td>0.359566</td>\n",
       "    </tr>\n",
       "  </tbody>\n",
       "</table>\n",
       "</div>"
      ],
      "text/plain": [
       "       station_count  train_mse  test_mse  train_r2   test_r2\n",
       "state                                                        \n",
       "TAS               12   0.015954  0.017407  0.807381  0.794966\n",
       "WA                16   0.020130  0.034638  0.762465  0.477148\n",
       "ACT                3   0.022527  0.036275  0.730990  0.550968\n",
       "VIC               72   0.024969  0.039703  0.700197  0.434680\n",
       "NSW               33   0.037082  0.042965  0.557506  0.444883\n",
       "QLD               61   0.038239  0.046336  0.541748  0.292188\n",
       "NT                16   0.038216  0.048754  0.558492 -0.130242\n",
       "SA                 9   0.032740  0.049900  0.592578  0.359566"
      ]
     },
     "execution_count": 3,
     "metadata": {},
     "output_type": "execute_result"
    }
   ],
   "source": [
    "base_dir = 'results/flow_cdf_cnn'\n",
    "dirs = os.listdir(base_dir)\n",
    "dirs = [d for d in dirs if d!='aus' and not d.endswith('.png')]\n",
    "\n",
    "aggs_dikt = {\n",
    "    'zone': 'count',\n",
    "    'train_mse': 'mean',\n",
    "    'test_mse': 'mean',\n",
    "    'train_r2': 'mean',\n",
    "    'test_r2': 'mean'\n",
    "}\n",
    "\n",
    "scalers = {}\n",
    "\n",
    "cdf_res_df_list = []\n",
    "for d in dirs:\n",
    "    df = pd.read_csv(os.path.join(base_dir, d, 'results.csv')).drop(columns=['Unnamed: 0'])\n",
    "    state, zone = d.split('_')\n",
    "    df['state'] = state\n",
    "    df['zone'] = int(zone)\n",
    "    # df.station_id = df.station_id.apply(lambda x: x[2:-1])\n",
    "    df.set_index('station_id', drop=True, inplace=True)\n",
    "    cdf_res_df_list.append(df)\n",
    "\n",
    "    with open(os.path.join(base_dir, d, 'scalers.pkl'), 'rb') as fil:\n",
    "        scalers[d] = pickle.load(fil)\n",
    "\n",
    "cdf_res_df = pd.concat(cdf_res_df_list)\n",
    "cdf_perf_df = cdf_res_df.groupby(['state']).agg(aggs_dikt).sort_values(by='test_mse')\n",
    "cdf_perf_df = cdf_perf_df.rename(columns={'zone': 'station_count'})\n",
    "cdf_perf_df"
   ]
  },
  {
   "cell_type": "code",
   "execution_count": 4,
   "metadata": {},
   "outputs": [
    {
     "name": "stdout",
     "output_type": "stream",
     "text": [
      "\\begin{tabular}{lrrrrr}\n",
      "\\toprule\n",
      "{} &  station\\_count &  train\\_mse &  test\\_mse &  train\\_r2 &   test\\_r2 \\\\\n",
      "state &                &            &           &           &           \\\\\n",
      "\\midrule\n",
      "TAS   &             12 &   0.015954 &  0.017407 &  0.807381 &  0.794966 \\\\\n",
      "WA    &             16 &   0.020130 &  0.034638 &  0.762465 &  0.477148 \\\\\n",
      "ACT   &              3 &   0.022527 &  0.036275 &  0.730990 &  0.550968 \\\\\n",
      "VIC   &             72 &   0.024969 &  0.039703 &  0.700197 &  0.434680 \\\\\n",
      "NSW   &             33 &   0.037082 &  0.042965 &  0.557506 &  0.444883 \\\\\n",
      "QLD   &             61 &   0.038239 &  0.046336 &  0.541748 &  0.292188 \\\\\n",
      "NT    &             16 &   0.038216 &  0.048754 &  0.558492 & -0.130242 \\\\\n",
      "SA    &              9 &   0.032740 &  0.049900 &  0.592578 &  0.359566 \\\\\n",
      "\\bottomrule\n",
      "\\end{tabular}\n",
      "\n"
     ]
    },
    {
     "name": "stderr",
     "output_type": "stream",
     "text": [
      "/scratch/pbs.5815334.kman.restech.unsw.edu.au/ipykernel_1909844/1729900787.py:1: FutureWarning: In future versions `DataFrame.to_latex` is expected to utilise the base implementation of `Styler.to_latex` for formatting and rendering. The arguments signature may therefore change. It is recommended instead to use `DataFrame.style.to_latex` which also contains additional functionality.\n",
      "  print(cdf_perf_df.to_latex())\n"
     ]
    }
   ],
   "source": [
    "print(cdf_perf_df.to_latex())"
   ]
  },
  {
   "cell_type": "code",
   "execution_count": 5,
   "metadata": {},
   "outputs": [
    {
     "data": {
      "image/png": "[encoded data removed]",
      "text/plain": [
       "<Figure size 640x480 with 1 Axes>"
      ]
     },
     "metadata": {},
     "output_type": "display_data"
    }
   ],
   "source": [
    "fig, ax = plt.subplots()\n",
    "cdf_res_df[['train_mse', 'test_mse']].plot.hist(bins=20, alpha=0.75, ax=ax, colormap='Dark2')\n",
    "fig.savefig(os.path.join(base_dir, 'hist.png'))"
   ]
  },
  {
   "cell_type": "code",
   "execution_count": null,
   "metadata": {},
   "outputs": [],
   "source": []
  },
  {
   "cell_type": "code",
   "execution_count": 17,
   "metadata": {},
   "outputs": [
    {
     "data": {
      "text/html": [
       "<div>\n",
       "<style scoped>\n",
       "    .dataframe tbody tr th:only-of-type {\n",
       "        vertical-align: middle;\n",
       "    }\n",
       "\n",
       "    .dataframe tbody tr th {\n",
       "        vertical-align: top;\n",
       "    }\n",
       "\n",
       "    .dataframe thead tr th {\n",
       "        text-align: left;\n",
       "    }\n",
       "\n",
       "    .dataframe thead tr:last-of-type th {\n",
       "        text-align: right;\n",
       "    }\n",
       "</style>\n",
       "<table border=\"1\" class=\"dataframe\">\n",
       "  <thead>\n",
       "    <tr>\n",
       "      <th></th>\n",
       "      <th></th>\n",
       "      <th></th>\n",
       "      <th colspan=\"2\" halign=\"left\">mlp</th>\n",
       "      <th colspan=\"2\" halign=\"left\">cnn</th>\n",
       "      <th colspan=\"2\" halign=\"left\">rnn</th>\n",
       "      <th colspan=\"2\" halign=\"left\">lstm</th>\n",
       "    </tr>\n",
       "    <tr>\n",
       "      <th></th>\n",
       "      <th></th>\n",
       "      <th></th>\n",
       "      <th>train_r2</th>\n",
       "      <th>test_r2</th>\n",
       "      <th>train_r2</th>\n",
       "      <th>test_r2</th>\n",
       "      <th>train_r2</th>\n",
       "      <th>test_r2</th>\n",
       "      <th>train_r2</th>\n",
       "      <th>test_r2</th>\n",
       "    </tr>\n",
       "    <tr>\n",
       "      <th>state</th>\n",
       "      <th>zone</th>\n",
       "      <th>stations</th>\n",
       "      <th></th>\n",
       "      <th></th>\n",
       "      <th></th>\n",
       "      <th></th>\n",
       "      <th></th>\n",
       "      <th></th>\n",
       "      <th></th>\n",
       "      <th></th>\n",
       "    </tr>\n",
       "  </thead>\n",
       "  <tbody>\n",
       "    <tr>\n",
       "      <th>ACT</th>\n",
       "      <th>55</th>\n",
       "      <th>3</th>\n",
       "      <td>0.7051</td>\n",
       "      <td>0.5530</td>\n",
       "      <td>0.7310</td>\n",
       "      <td>0.5510</td>\n",
       "      <td>0.7359</td>\n",
       "      <td>0.5566</td>\n",
       "      <td>0.7485</td>\n",
       "      <td>0.5721</td>\n",
       "    </tr>\n",
       "    <tr>\n",
       "      <th rowspan=\"2\" valign=\"top\">NSW</th>\n",
       "      <th>55</th>\n",
       "      <th>15</th>\n",
       "      <td>0.5691</td>\n",
       "      <td>0.4159</td>\n",
       "      <td>0.6148</td>\n",
       "      <td>0.4662</td>\n",
       "      <td>0.6420</td>\n",
       "      <td>0.4447</td>\n",
       "      <td>0.6533</td>\n",
       "      <td>0.4816</td>\n",
       "    </tr>\n",
       "    <tr>\n",
       "      <th>56</th>\n",
       "      <th>18</th>\n",
       "      <td>0.4581</td>\n",
       "      <td>0.3705</td>\n",
       "      <td>0.5098</td>\n",
       "      <td>0.4271</td>\n",
       "      <td>0.5293</td>\n",
       "      <td>0.4201</td>\n",
       "      <td>0.5505</td>\n",
       "      <td>0.4282</td>\n",
       "    </tr>\n",
       "    <tr>\n",
       "      <th rowspan=\"2\" valign=\"top\">NT</th>\n",
       "      <th>52</th>\n",
       "      <th>6</th>\n",
       "      <td>0.6642</td>\n",
       "      <td>-0.0154</td>\n",
       "      <td>0.6613</td>\n",
       "      <td>-0.3955</td>\n",
       "      <td>0.7021</td>\n",
       "      <td>-0.2634</td>\n",
       "      <td>0.6586</td>\n",
       "      <td>-0.2196</td>\n",
       "    </tr>\n",
       "    <tr>\n",
       "      <th>53</th>\n",
       "      <th>10</th>\n",
       "      <td>0.4757</td>\n",
       "      <td>0.0625</td>\n",
       "      <td>0.4968</td>\n",
       "      <td>0.0289</td>\n",
       "      <td>0.5020</td>\n",
       "      <td>0.0002</td>\n",
       "      <td>0.4865</td>\n",
       "      <td>0.0336</td>\n",
       "    </tr>\n",
       "    <tr>\n",
       "      <th rowspan=\"3\" valign=\"top\">QLD</th>\n",
       "      <th>54</th>\n",
       "      <th>8</th>\n",
       "      <td>0.5836</td>\n",
       "      <td>0.4366</td>\n",
       "      <td>0.6310</td>\n",
       "      <td>0.5678</td>\n",
       "      <td>0.6837</td>\n",
       "      <td>0.5756</td>\n",
       "      <td>0.6604</td>\n",
       "      <td>0.6042</td>\n",
       "    </tr>\n",
       "    <tr>\n",
       "      <th>55</th>\n",
       "      <th>25</th>\n",
       "      <td>0.5960</td>\n",
       "      <td>0.3695</td>\n",
       "      <td>0.6447</td>\n",
       "      <td>0.3675</td>\n",
       "      <td>0.6680</td>\n",
       "      <td>0.3490</td>\n",
       "      <td>0.6645</td>\n",
       "      <td>0.3887</td>\n",
       "    </tr>\n",
       "    <tr>\n",
       "      <th>56</th>\n",
       "      <th>28</th>\n",
       "      <td>0.3931</td>\n",
       "      <td>0.0132</td>\n",
       "      <td>0.4243</td>\n",
       "      <td>0.1462</td>\n",
       "      <td>0.4819</td>\n",
       "      <td>0.0295</td>\n",
       "      <td>0.4266</td>\n",
       "      <td>0.1613</td>\n",
       "    </tr>\n",
       "    <tr>\n",
       "      <th rowspan=\"2\" valign=\"top\">SA</th>\n",
       "      <th>53</th>\n",
       "      <th>1</th>\n",
       "      <td>0.7771</td>\n",
       "      <td>0.7582</td>\n",
       "      <td>0.7952</td>\n",
       "      <td>0.7982</td>\n",
       "      <td>0.8076</td>\n",
       "      <td>0.8010</td>\n",
       "      <td>0.7999</td>\n",
       "      <td>0.8072</td>\n",
       "    </tr>\n",
       "    <tr>\n",
       "      <th>54</th>\n",
       "      <th>8</th>\n",
       "      <td>0.5604</td>\n",
       "      <td>0.3229</td>\n",
       "      <td>0.5673</td>\n",
       "      <td>0.3047</td>\n",
       "      <td>0.5972</td>\n",
       "      <td>0.3230</td>\n",
       "      <td>0.5719</td>\n",
       "      <td>0.3233</td>\n",
       "    </tr>\n",
       "    <tr>\n",
       "      <th>TAS</th>\n",
       "      <th>55</th>\n",
       "      <th>12</th>\n",
       "      <td>0.7504</td>\n",
       "      <td>0.7355</td>\n",
       "      <td>0.8074</td>\n",
       "      <td>0.7950</td>\n",
       "      <td>0.8287</td>\n",
       "      <td>0.7976</td>\n",
       "      <td>0.8629</td>\n",
       "      <td>0.8059</td>\n",
       "    </tr>\n",
       "    <tr>\n",
       "      <th rowspan=\"2\" valign=\"top\">VIC</th>\n",
       "      <th>54</th>\n",
       "      <th>10</th>\n",
       "      <td>0.5191</td>\n",
       "      <td>-0.3233</td>\n",
       "      <td>0.5354</td>\n",
       "      <td>-0.3358</td>\n",
       "      <td>0.5640</td>\n",
       "      <td>-0.4470</td>\n",
       "      <td>0.5287</td>\n",
       "      <td>-0.3837</td>\n",
       "    </tr>\n",
       "    <tr>\n",
       "      <th>55</th>\n",
       "      <th>62</th>\n",
       "      <td>0.6604</td>\n",
       "      <td>0.5174</td>\n",
       "      <td>0.7268</td>\n",
       "      <td>0.5589</td>\n",
       "      <td>0.7605</td>\n",
       "      <td>0.5420</td>\n",
       "      <td>0.7720</td>\n",
       "      <td>0.5636</td>\n",
       "    </tr>\n",
       "    <tr>\n",
       "      <th rowspan=\"3\" valign=\"top\">WA</th>\n",
       "      <th>50</th>\n",
       "      <th>13</th>\n",
       "      <td>0.7678</td>\n",
       "      <td>0.5185</td>\n",
       "      <td>0.7951</td>\n",
       "      <td>0.4751</td>\n",
       "      <td>0.8005</td>\n",
       "      <td>0.4756</td>\n",
       "      <td>0.7884</td>\n",
       "      <td>0.4810</td>\n",
       "    </tr>\n",
       "    <tr>\n",
       "      <th>51</th>\n",
       "      <th>2</th>\n",
       "      <td>0.6906</td>\n",
       "      <td>0.5152</td>\n",
       "      <td>0.6852</td>\n",
       "      <td>0.5123</td>\n",
       "      <td>0.6999</td>\n",
       "      <td>0.4062</td>\n",
       "      <td>0.7022</td>\n",
       "      <td>0.5264</td>\n",
       "    </tr>\n",
       "    <tr>\n",
       "      <th>52</th>\n",
       "      <th>1</th>\n",
       "      <td>0.4823</td>\n",
       "      <td>0.4559</td>\n",
       "      <td>0.4930</td>\n",
       "      <td>0.4330</td>\n",
       "      <td>0.5025</td>\n",
       "      <td>0.4843</td>\n",
       "      <td>0.4941</td>\n",
       "      <td>0.4906</td>\n",
       "    </tr>\n",
       "  </tbody>\n",
       "</table>\n",
       "</div>"
      ],
      "text/plain": [
       "                         mlp              cnn              rnn          \\\n",
       "                    train_r2 test_r2 train_r2 test_r2 train_r2 test_r2   \n",
       "state zone stations                                                      \n",
       "ACT   55   3          0.7051  0.5530   0.7310  0.5510   0.7359  0.5566   \n",
       "NSW   55   15         0.5691  0.4159   0.6148  0.4662   0.6420  0.4447   \n",
       "      56   18         0.4581  0.3705   0.5098  0.4271   0.5293  0.4201   \n",
       "NT    52   6          0.6642 -0.0154   0.6613 -0.3955   0.7021 -0.2634   \n",
       "      53   10         0.4757  0.0625   0.4968  0.0289   0.5020  0.0002   \n",
       "QLD   54   8          0.5836  0.4366   0.6310  0.5678   0.6837  0.5756   \n",
       "      55   25         0.5960  0.3695   0.6447  0.3675   0.6680  0.3490   \n",
       "      56   28         0.3931  0.0132   0.4243  0.1462   0.4819  0.0295   \n",
       "SA    53   1          0.7771  0.7582   0.7952  0.7982   0.8076  0.8010   \n",
       "      54   8          0.5604  0.3229   0.5673  0.3047   0.5972  0.3230   \n",
       "TAS   55   12         0.7504  0.7355   0.8074  0.7950   0.8287  0.7976   \n",
       "VIC   54   10         0.5191 -0.3233   0.5354 -0.3358   0.5640 -0.4470   \n",
       "      55   62         0.6604  0.5174   0.7268  0.5589   0.7605  0.5420   \n",
       "WA    50   13         0.7678  0.5185   0.7951  0.4751   0.8005  0.4756   \n",
       "      51   2          0.6906  0.5152   0.6852  0.5123   0.6999  0.4062   \n",
       "      52   1          0.4823  0.4559   0.4930  0.4330   0.5025  0.4843   \n",
       "\n",
       "                        lstm          \n",
       "                    train_r2 test_r2  \n",
       "state zone stations                   \n",
       "ACT   55   3          0.7485  0.5721  \n",
       "NSW   55   15         0.6533  0.4816  \n",
       "      56   18         0.5505  0.4282  \n",
       "NT    52   6          0.6586 -0.2196  \n",
       "      53   10         0.4865  0.0336  \n",
       "QLD   54   8          0.6604  0.6042  \n",
       "      55   25         0.6645  0.3887  \n",
       "      56   28         0.4266  0.1613  \n",
       "SA    53   1          0.7999  0.8072  \n",
       "      54   8          0.5719  0.3233  \n",
       "TAS   55   12         0.8629  0.8059  \n",
       "VIC   54   10         0.5287 -0.3837  \n",
       "      55   62         0.7720  0.5636  \n",
       "WA    50   13         0.7884  0.4810  \n",
       "      51   2          0.7022  0.5264  \n",
       "      52   1          0.4941  0.4906  "
      ]
     },
     "execution_count": 17,
     "metadata": {},
     "output_type": "execute_result"
    }
   ],
   "source": [
    "aggs_dikt = {\n",
    "    'zone': 'nunique',\n",
    "    # 'train_mse': 'mean',\n",
    "    # 'test_mse': 'mean',\n",
    "    'train_r2': 'mean',\n",
    "    'test_r2': 'mean',\n",
    "    'train_mse': 'count'\n",
    "}\n",
    "\n",
    "models = ['mlp', 'cnn', 'rnn', 'lstm']\n",
    "cdf_perf_df_list = []\n",
    "\n",
    "for model in models:\n",
    "\n",
    "    base_dir = f'results/flow_cdf_{model}'\n",
    "    dirs = os.listdir(base_dir)\n",
    "    dirs = [d for d in dirs if d!='aus' and not d.endswith('.png')]\n",
    "\n",
    "    cdf_res_df_list = []\n",
    "    for d in dirs:\n",
    "        df = pd.read_csv(os.path.join(base_dir, d, 'results.csv')).drop(columns=['Unnamed: 0'])\n",
    "        state, zone = d.split('_')\n",
    "        df['state'] = state\n",
    "        df['zone'] = int(zone)\n",
    "        df['ts_model'] = model\n",
    "        df.set_index('station_id', drop=True, inplace=True)\n",
    "        cdf_res_df_list.append(df)\n",
    "    \n",
    "    cdf_res_df = pd.concat(cdf_res_df_list)\n",
    "    cdf_perf_df = cdf_res_df.groupby(['state', 'zone']).agg(aggs_dikt)\n",
    "    cdf_perf_df = cdf_perf_df.rename(columns={'zone': 'zones', 'train_mse': 'stations'}).drop(columns=['zones'])\n",
    "    cdf_perf_df = cdf_perf_df.sort_values(['state', 'zone']).reset_index()\n",
    "    cdf_perf_df = cdf_perf_df.set_index(['state', 'zone', 'stations'])\n",
    "    new_level = [model for col in cdf_perf_df.columns]\n",
    "    cdf_perf_df.columns = pd.MultiIndex.from_tuples(zip(new_level, cdf_perf_df.columns))\n",
    "    cdf_perf_df_list.append(cdf_perf_df)\n",
    "\n",
    "cdf_perf_df = pd.concat(cdf_perf_df_list, axis=1)\n",
    "cdf_perf_df"
   ]
  },
  {
   "cell_type": "code",
   "execution_count": 18,
   "metadata": {},
   "outputs": [
    {
     "name": "stdout",
     "output_type": "stream",
     "text": [
      "\\begin{tabular}{lllrrrrrrrr}\n",
      "\\toprule\n",
      "   &    &    & \\multicolumn{2}{l}{mlp} & \\multicolumn{2}{l}{cnn} & \\multicolumn{2}{l}{rnn} & \\multicolumn{2}{l}{lstm} \\\\\n",
      "   &    &    & train\\_r2 & test\\_r2 & train\\_r2 & test\\_r2 & train\\_r2 & test\\_r2 & train\\_r2 & test\\_r2 \\\\\n",
      "state & zone & stations &          &         &          &         &          &         &          &         \\\\\n",
      "\\midrule\n",
      "ACT & 55 & 3  &   0.7051 &  0.5530 &   0.7310 &  0.5510 &   0.7359 &  0.5566 &   0.7485 &  0.5721 \\\\\n",
      "NSW & 55 & 15 &   0.5691 &  0.4159 &   0.6148 &  0.4662 &   0.6420 &  0.4447 &   0.6533 &  0.4816 \\\\\n",
      "   & 56 & 18 &   0.4581 &  0.3705 &   0.5098 &  0.4271 &   0.5293 &  0.4201 &   0.5505 &  0.4282 \\\\\n",
      "NT & 52 & 6  &   0.6642 & -0.0154 &   0.6613 & -0.3955 &   0.7021 & -0.2634 &   0.6586 & -0.2196 \\\\\n",
      "   & 53 & 10 &   0.4757 &  0.0625 &   0.4968 &  0.0289 &   0.5020 &  0.0002 &   0.4865 &  0.0336 \\\\\n",
      "QLD & 54 & 8  &   0.5836 &  0.4366 &   0.6310 &  0.5678 &   0.6837 &  0.5756 &   0.6604 &  0.6042 \\\\\n",
      "   & 55 & 25 &   0.5960 &  0.3695 &   0.6447 &  0.3675 &   0.6680 &  0.3490 &   0.6645 &  0.3887 \\\\\n",
      "   & 56 & 28 &   0.3931 &  0.0132 &   0.4243 &  0.1462 &   0.4819 &  0.0295 &   0.4266 &  0.1613 \\\\\n",
      "SA & 53 & 1  &   0.7771 &  0.7582 &   0.7952 &  0.7982 &   0.8076 &  0.8010 &   0.7999 &  0.8072 \\\\\n",
      "   & 54 & 8  &   0.5604 &  0.3229 &   0.5673 &  0.3047 &   0.5972 &  0.3230 &   0.5719 &  0.3233 \\\\\n",
      "TAS & 55 & 12 &   0.7504 &  0.7355 &   0.8074 &  0.7950 &   0.8287 &  0.7976 &   0.8629 &  0.8059 \\\\\n",
      "VIC & 54 & 10 &   0.5191 & -0.3233 &   0.5354 & -0.3358 &   0.5640 & -0.4470 &   0.5287 & -0.3837 \\\\\n",
      "   & 55 & 62 &   0.6604 &  0.5174 &   0.7268 &  0.5589 &   0.7605 &  0.5420 &   0.7720 &  0.5636 \\\\\n",
      "WA & 50 & 13 &   0.7678 &  0.5185 &   0.7951 &  0.4751 &   0.8005 &  0.4756 &   0.7884 &  0.4810 \\\\\n",
      "   & 51 & 2  &   0.6906 &  0.5152 &   0.6852 &  0.5123 &   0.6999 &  0.4062 &   0.7022 &  0.5264 \\\\\n",
      "   & 52 & 1  &   0.4823 &  0.4559 &   0.4930 &  0.4330 &   0.5025 &  0.4843 &   0.4941 &  0.4906 \\\\\n",
      "\\bottomrule\n",
      "\\end{tabular}\n",
      "\n"
     ]
    },
    {
     "name": "stderr",
     "output_type": "stream",
     "text": [
      "/scratch/pbs.5815334.kman.restech.unsw.edu.au/ipykernel_1909844/3700187585.py:2: FutureWarning: In future versions `DataFrame.to_latex` is expected to utilise the base implementation of `Styler.to_latex` for formatting and rendering. The arguments signature may therefore change. It is recommended instead to use `DataFrame.style.to_latex` which also contains additional functionality.\n",
      "  print(cdf_perf_df.to_latex())\n"
     ]
    }
   ],
   "source": [
    "pd.set_option(\"display.precision\", 4)\n",
    "print(cdf_perf_df.to_latex())"
   ]
  },
  {
   "cell_type": "code",
   "execution_count": null,
   "metadata": {},
   "outputs": [],
   "source": []
  },
  {
   "cell_type": "code",
   "execution_count": null,
   "metadata": {},
   "outputs": [],
   "source": []
  },
  {
   "cell_type": "code",
   "execution_count": null,
   "metadata": {},
   "outputs": [],
   "source": []
  },
  {
   "cell_type": "code",
   "execution_count": 2,
   "metadata": {},
   "outputs": [
    {
     "name": "stderr",
     "output_type": "stream",
     "text": [
      "2024-10-17 12:00:12.614872: I tensorflow/core/util/port.cc:153] oneDNN custom operations are on. You may see slightly different numerical results due to floating-point round-off errors from different computation orders. To turn them off, set the environment variable `TF_ENABLE_ONEDNN_OPTS=0`.\n",
      "2024-10-17 12:00:13.468590: E external/local_xla/xla/stream_executor/cuda/cuda_fft.cc:485] Unable to register cuFFT factory: Attempting to register factory for plugin cuFFT when one has already been registered\n",
      "2024-10-17 12:00:13.794946: E external/local_xla/xla/stream_executor/cuda/cuda_dnn.cc:8454] Unable to register cuDNN factory: Attempting to register factory for plugin cuDNN when one has already been registered\n",
      "2024-10-17 12:00:13.831035: E external/local_xla/xla/stream_executor/cuda/cuda_blas.cc:1452] Unable to register cuBLAS factory: Attempting to register factory for plugin cuBLAS when one has already been registered\n",
      "2024-10-17 12:00:14.035725: I tensorflow/core/platform/cpu_feature_guard.cc:210] This TensorFlow binary is optimized to use available CPU instructions in performance-critical operations.\n",
      "To enable the following instructions: AVX2 AVX512F AVX512_VNNI FMA, in other operations, rebuild TensorFlow with the appropriate compiler flags.\n",
      "2024-10-17 12:00:34.262940: W tensorflow/compiler/tf2tensorrt/utils/py_utils.cc:38] TF-TRT Warning: Could not find TensorRT\n"
     ]
    }
   ],
   "source": [
    "from data.tf.camels_dataset import CamelsDataset"
   ]
  },
  {
   "cell_type": "code",
   "execution_count": 3,
   "metadata": {},
   "outputs": [],
   "source": [
    "camels_dir = '../data/camels/aus'\n",
    "camels_ds = CamelsDataset(data_dir=camels_dir)"
   ]
  },
  {
   "cell_type": "code",
   "execution_count": 4,
   "metadata": {},
   "outputs": [
    {
     "name": "stdout",
     "output_type": "stream",
     "text": [
      "['113004A', '227227', '919003A', 'G9030124', '121001A', '407253', 'A5030502', '143303A', '608002', '405248']\n"
     ]
    }
   ],
   "source": [
    "station_list = camels_ds.get_station_list()\n",
    "print(np.random.permutation(station_list)[:10].tolist())"
   ]
  },
  {
   "cell_type": "code",
   "execution_count": null,
   "metadata": {},
   "outputs": [],
   "source": []
  },
  {
   "cell_type": "code",
   "execution_count": null,
   "metadata": {},
   "outputs": [],
   "source": []
  },
  {
   "cell_type": "code",
   "execution_count": null,
   "metadata": {},
   "outputs": [],
   "source": []
  },
  {
   "cell_type": "code",
   "execution_count": null,
   "metadata": {},
   "outputs": [],
   "source": []
  },
  {
   "cell_type": "code",
   "execution_count": 9,
   "metadata": {},
   "outputs": [
    {
     "data": {
      "text/html": [
       "<div>\n",
       "<style scoped>\n",
       "    .dataframe tbody tr th:only-of-type {\n",
       "        vertical-align: middle;\n",
       "    }\n",
       "\n",
       "    .dataframe tbody tr th {\n",
       "        vertical-align: top;\n",
       "    }\n",
       "\n",
       "    .dataframe thead th {\n",
       "        text-align: right;\n",
       "    }\n",
       "</style>\n",
       "<table border=\"1\" class=\"dataframe\">\n",
       "  <thead>\n",
       "    <tr style=\"text-align: right;\">\n",
       "      <th></th>\n",
       "      <th>train_mse</th>\n",
       "      <th>test_mse</th>\n",
       "      <th>state</th>\n",
       "      <th>zone</th>\n",
       "      <th>lat_outlet</th>\n",
       "      <th>long_outlet</th>\n",
       "      <th>zone_id</th>\n",
       "    </tr>\n",
       "    <tr>\n",
       "      <th>station_id</th>\n",
       "      <th></th>\n",
       "      <th></th>\n",
       "      <th></th>\n",
       "      <th></th>\n",
       "      <th></th>\n",
       "      <th></th>\n",
       "      <th></th>\n",
       "    </tr>\n",
       "  </thead>\n",
       "  <tbody>\n",
       "    <tr>\n",
       "      <th>410730</th>\n",
       "      <td>0.018229</td>\n",
       "      <td>0.029168</td>\n",
       "      <td>ACT</td>\n",
       "      <td>55</td>\n",
       "      <td>-35.591944</td>\n",
       "      <td>148.822222</td>\n",
       "      <td>ACT_55</td>\n",
       "    </tr>\n",
       "    <tr>\n",
       "      <th>410731</th>\n",
       "      <td>0.019701</td>\n",
       "      <td>0.041623</td>\n",
       "      <td>ACT</td>\n",
       "      <td>55</td>\n",
       "      <td>-35.575000</td>\n",
       "      <td>149.066111</td>\n",
       "      <td>ACT_55</td>\n",
       "    </tr>\n",
       "    <tr>\n",
       "      <th>410761</th>\n",
       "      <td>0.021961</td>\n",
       "      <td>0.033892</td>\n",
       "      <td>ACT</td>\n",
       "      <td>55</td>\n",
       "      <td>-35.540000</td>\n",
       "      <td>149.101944</td>\n",
       "      <td>ACT_55</td>\n",
       "    </tr>\n",
       "    <tr>\n",
       "      <th>401015</th>\n",
       "      <td>0.043600</td>\n",
       "      <td>0.041336</td>\n",
       "      <td>NSW</td>\n",
       "      <td>55</td>\n",
       "      <td>-35.916667</td>\n",
       "      <td>146.976944</td>\n",
       "      <td>NSW_55</td>\n",
       "    </tr>\n",
       "    <tr>\n",
       "      <th>401012</th>\n",
       "      <td>0.016833</td>\n",
       "      <td>0.028372</td>\n",
       "      <td>NSW</td>\n",
       "      <td>55</td>\n",
       "      <td>-36.318333</td>\n",
       "      <td>148.051944</td>\n",
       "      <td>NSW_55</td>\n",
       "    </tr>\n",
       "  </tbody>\n",
       "</table>\n",
       "</div>"
      ],
      "text/plain": [
       "            train_mse  test_mse state  zone  lat_outlet  long_outlet zone_id\n",
       "station_id                                                                  \n",
       "410730       0.018229  0.029168   ACT    55  -35.591944   148.822222  ACT_55\n",
       "410731       0.019701  0.041623   ACT    55  -35.575000   149.066111  ACT_55\n",
       "410761       0.021961  0.033892   ACT    55  -35.540000   149.101944  ACT_55\n",
       "401015       0.043600  0.041336   NSW    55  -35.916667   146.976944  NSW_55\n",
       "401012       0.016833  0.028372   NSW    55  -36.318333   148.051944  NSW_55"
      ]
     },
     "execution_count": 9,
     "metadata": {},
     "output_type": "execute_result"
    }
   ],
   "source": [
    "loc_df = camels_ds.repo.data[['lat_outlet', 'long_outlet']].to_dataframe()\n",
    "station_df = pd.concat([cdf_res_df, loc_df], axis=1)\n",
    "station_df['zone_id'] = station_df.apply(lambda x: f\"{x['state']}_{x['zone']}\", axis=1)\n",
    "station_df = station_df.sort_values(by='zone_id')\n",
    "station_df.head()"
   ]
  },
  {
   "cell_type": "code",
   "execution_count": 10,
   "metadata": {},
   "outputs": [
    {
     "data": {
      "text/plain": [
       "16"
      ]
     },
     "execution_count": 10,
     "metadata": {},
     "output_type": "execute_result"
    }
   ],
   "source": [
    "station_df.zone_id.nunique()"
   ]
  },
  {
   "cell_type": "code",
   "execution_count": 31,
   "metadata": {},
   "outputs": [
    {
     "data": {
      "image/png": "[encoded data removed]",
      "text/plain": [
       "<Figure size 1200x1200 with 1 Axes>"
      ]
     },
     "metadata": {},
     "output_type": "display_data"
    }
   ],
   "source": [
    "# Load the shapefile of Australia\n",
    "australia = gpd.read_file('../data/camels/aus/02_location_boundary_area/shp/bonus data/Australia_boundaries.shp')#'../data/camels/aus/shp/AUS_2021_AUST_GDA2020.shp')\n",
    "\n",
    "# Define the CRS of the shapefile manually\n",
    "australia.crs = 'epsg:7844'\n",
    "\n",
    "# Create a GeoDataFrame from the DataFrame of cities\n",
    "gdf_cities = gpd.GeoDataFrame(station_df, geometry=gpd.points_from_xy(station_df.long_outlet, station_df.lat_outlet))\n",
    "\n",
    "# Set the CRS of the GeoDataFrame to EPSG 7844\n",
    "# https://epsg.io/7844\n",
    "gdf_cities.crs = 'epsg:7844'\n",
    "\n",
    "# Reproject the GeoDataFrame of cities to match the CRS of the shapefile\n",
    "gdf_cities = gdf_cities.to_crs(australia.crs)\n",
    "\n",
    "# Perform a spatial join to link the cities to their corresponding polygons in the shapefile\n",
    "gdf_cities = gpd.sjoin(gdf_cities, australia, predicate='within')\n",
    "\n",
    "# Set up the plot\n",
    "sns.set_style(\"whitegrid\")\n",
    "fig, ax = plt.subplots(figsize=(12, 12))\n",
    "\n",
    "# Define a custom dark color palette\n",
    "custom_palette = sns.color_palette(['darkblue', 'black', 'purple','darkred',\n",
    "                                    'darkgreen', 'darkorange', 'brown' , 'blue'], \n",
    "                                   n_colors=len(station_df['zone_id'].unique()))\n",
    "\n",
    "# # Plot the cities colored by priority with adjustments\n",
    "sns.scatterplot(ax=ax, data=gdf_cities, x='long_outlet', y='lat_outlet',\n",
    "                hue='zone_id', palette='tab20c', s=35, \n",
    "                edgecolor='black', alpha=0.85, legend=True, zorder=2)\n",
    "\n",
    "# norm = plt.Normalize(gdf_cities['test_mse'].min(), gdf_cities['test_mse'].max())\n",
    "# sm = plt.cm.ScalarMappable(cmap=\"RdBu\", norm=norm)\n",
    "# sm.set_array([])\n",
    "\n",
    "# Add a colorbar\n",
    "# ax.figure.colorbar(sm,fraction=0.046, pad=0.04)\n",
    "\n",
    "# Set x-axis limits\n",
    "ax.set_xlim(110, 160)\n",
    "\n",
    "# Add the shapefile of Australia as a background map\n",
    "australia.plot(ax=ax, color='whitesmoke', edgecolor='darkgrey', zorder=1)\n",
    "\n",
    "# Set the plot title and axis labels\n",
    "# plt.title('Catchments identified by region across Australia')\n",
    "plt.xlabel('Longitude')\n",
    "plt.ylabel('Latitude')\n",
    "\n",
    "ax.legend()\n",
    "\n",
    "# Show the plot\n",
    "plt.savefig('regions.png', bbox_inches='tight')"
   ]
  },
  {
   "cell_type": "code",
   "execution_count": null,
   "metadata": {},
   "outputs": [],
   "source": []
  },
  {
   "cell_type": "code",
   "execution_count": null,
   "metadata": {},
   "outputs": [],
   "source": []
  },
  {
   "cell_type": "code",
   "execution_count": 12,
   "metadata": {},
   "outputs": [
    {
     "name": "stderr",
     "output_type": "stream",
     "text": [
      "/scratch/pbs.5802623.kman.restech.unsw.edu.au/ipykernel_3277702/794214050.py:4: FutureWarning: The default value of numeric_only in DataFrame.mean is deprecated. In a future version, it will default to False. In addition, specifying 'numeric_only=None' is deprecated. Select only valid columns or specify the value of numeric_only to silence this warning.\n",
      "  res_gr4j = res_df.mean()[sel_cols]\n"
     ]
    },
    {
     "data": {
      "text/plain": [
       "{'gr4j': {'train_nse': 0.5840121929907335,\n",
       "  'train_nnse': 0.7643548048885965,\n",
       "  'test_nse': 0.22889579159013743,\n",
       "  'test_nnse': 0.7068882728516038}}"
      ]
     },
     "execution_count": 12,
     "metadata": {},
     "output_type": "execute_result"
    }
   ],
   "source": [
    "sel_cols = ['nse_train', 'nnse_train', 'nse_val', 'nnse_val']\n",
    "res_path = 'results/gr4j/result.csv'\n",
    "res_df = pd.read_csv(res_path).reset_index(drop=True)\n",
    "res_gr4j = res_df.mean()[sel_cols]\n",
    "res_gr4j = res_gr4j.rename({'nse_train': 'train_nse',\n",
    "                            'nnse_train': 'train_nnse',\n",
    "                            'nse_val': 'test_nse',\n",
    "                            'nnse_val': 'test_nnse'})\n",
    "res_gr4j = {'gr4j': res_gr4j.to_dict()}\n",
    "res_gr4j"
   ]
  },
  {
   "cell_type": "code",
   "execution_count": 13,
   "metadata": {},
   "outputs": [
    {
     "data": {
      "text/plain": [
       "{'deepgr4j_cnn': {'train_nse': 0.7897255611480087,\n",
       "  'train_nnse': 0.8382952668473677,\n",
       "  'test_nse': 0.37501953448261227,\n",
       "  'test_nnse': 0.6440308782200457}}"
      ]
     },
     "execution_count": 13,
     "metadata": {},
     "output_type": "execute_result"
    }
   ],
   "source": [
    "sel_cols = ['train_nse', 'train_nnse', 'test_nse', 'test_nnse']\n",
    "res_path = 'results/deepgr4j_cnn/aus/results.csv'\n",
    "res_df = pd.read_csv(res_path).reset_index(drop=True)\n",
    "res_deepgr4j_cnn = {'deepgr4j_cnn': res_df[sel_cols].mean().to_dict()}\n",
    "res_deepgr4j_cnn"
   ]
  },
  {
   "cell_type": "code",
   "execution_count": 14,
   "metadata": {},
   "outputs": [
    {
     "data": {
      "text/plain": [
       "{'deepgr4j_lstm': {'train_nse': 0.73251526745934,\n",
       "  'train_nnse': 0.7993885584287078,\n",
       "  'test_nse': 0.461029721407203,\n",
       "  'test_nnse': 0.6681446236018642}}"
      ]
     },
     "execution_count": 14,
     "metadata": {},
     "output_type": "execute_result"
    }
   ],
   "source": [
    "res_path = 'results/deepgr4j_lstm/aus/results.csv'\n",
    "res_df = pd.read_csv(res_path).reset_index(drop=True)\n",
    "res_deepgr4j_lstm = {'deepgr4j_lstm': res_df[sel_cols].mean().to_dict()}\n",
    "res_deepgr4j_lstm"
   ]
  },
  {
   "cell_type": "code",
   "execution_count": 15,
   "metadata": {},
   "outputs": [
    {
     "data": {
      "text/plain": [
       "{'qdeepgr4j_lstm': {'train_nse': 0.5837234624720238,\n",
       "  'train_nnse': 0.7254834887100085,\n",
       "  'test_nse': 0.44725785797109474,\n",
       "  'test_nnse': 0.6575388583718973}}"
      ]
     },
     "execution_count": 15,
     "metadata": {},
     "output_type": "execute_result"
    }
   ],
   "source": [
    "res_path = 'results/qdeepgr4j_lstm/aus/results.csv'\n",
    "res_df = pd.read_csv(res_path).reset_index(drop=True)\n",
    "res_qdeepgr4j_lstm = {'qdeepgr4j_lstm': res_df[sel_cols].mean().to_dict()}\n",
    "res_qdeepgr4j_lstm"
   ]
  },
  {
   "cell_type": "code",
   "execution_count": 16,
   "metadata": {},
   "outputs": [
    {
     "data": {
      "text/plain": [
       "{'qdeepgr4j_cnn': {'train_nse': 0.5312140455117097,\n",
       "  'train_nnse': 0.6987593083139808,\n",
       "  'test_nse': 0.42918693280971804,\n",
       "  'test_nnse': 0.6510982345043215}}"
      ]
     },
     "execution_count": 16,
     "metadata": {},
     "output_type": "execute_result"
    }
   ],
   "source": [
    "res_path = 'results/qdeepgr4j_cnn/aus/results.csv'\n",
    "res_df = pd.read_csv(res_path).reset_index(drop=True)\n",
    "res_qdeepgr4j_cnn = {'qdeepgr4j_cnn': res_df[sel_cols].mean().to_dict()}\n",
    "res_qdeepgr4j_cnn"
   ]
  },
  {
   "cell_type": "code",
   "execution_count": null,
   "metadata": {},
   "outputs": [],
   "source": []
  },
  {
   "cell_type": "code",
   "execution_count": null,
   "metadata": {},
   "outputs": [],
   "source": []
  },
  {
   "cell_type": "code",
   "execution_count": 17,
   "metadata": {},
   "outputs": [
    {
     "data": {
      "text/html": [
       "<div>\n",
       "<style scoped>\n",
       "    .dataframe tbody tr th:only-of-type {\n",
       "        vertical-align: middle;\n",
       "    }\n",
       "\n",
       "    .dataframe tbody tr th {\n",
       "        vertical-align: top;\n",
       "    }\n",
       "\n",
       "    .dataframe thead th {\n",
       "        text-align: right;\n",
       "    }\n",
       "</style>\n",
       "<table border=\"1\" class=\"dataframe\">\n",
       "  <thead>\n",
       "    <tr style=\"text-align: right;\">\n",
       "      <th></th>\n",
       "      <th>train_nse</th>\n",
       "      <th>train_nnse</th>\n",
       "      <th>test_nse</th>\n",
       "      <th>test_nnse</th>\n",
       "    </tr>\n",
       "  </thead>\n",
       "  <tbody>\n",
       "    <tr>\n",
       "      <th>gr4j</th>\n",
       "      <td>0.584012</td>\n",
       "      <td>0.764355</td>\n",
       "      <td>0.228896</td>\n",
       "      <td>0.706888</td>\n",
       "    </tr>\n",
       "    <tr>\n",
       "      <th>deepgr4j_cnn</th>\n",
       "      <td>0.789726</td>\n",
       "      <td>0.838295</td>\n",
       "      <td>0.375020</td>\n",
       "      <td>0.644031</td>\n",
       "    </tr>\n",
       "    <tr>\n",
       "      <th>qdeepgr4j_cnn</th>\n",
       "      <td>0.531214</td>\n",
       "      <td>0.698759</td>\n",
       "      <td>0.429187</td>\n",
       "      <td>0.651098</td>\n",
       "    </tr>\n",
       "    <tr>\n",
       "      <th>qdeepgr4j_lstm</th>\n",
       "      <td>0.583723</td>\n",
       "      <td>0.725483</td>\n",
       "      <td>0.447258</td>\n",
       "      <td>0.657539</td>\n",
       "    </tr>\n",
       "    <tr>\n",
       "      <th>deepgr4j_lstm</th>\n",
       "      <td>0.732515</td>\n",
       "      <td>0.799389</td>\n",
       "      <td>0.461030</td>\n",
       "      <td>0.668145</td>\n",
       "    </tr>\n",
       "  </tbody>\n",
       "</table>\n",
       "</div>"
      ],
      "text/plain": [
       "                train_nse  train_nnse  test_nse  test_nnse\n",
       "gr4j             0.584012    0.764355  0.228896   0.706888\n",
       "deepgr4j_cnn     0.789726    0.838295  0.375020   0.644031\n",
       "qdeepgr4j_cnn    0.531214    0.698759  0.429187   0.651098\n",
       "qdeepgr4j_lstm   0.583723    0.725483  0.447258   0.657539\n",
       "deepgr4j_lstm    0.732515    0.799389  0.461030   0.668145"
      ]
     },
     "execution_count": 17,
     "metadata": {},
     "output_type": "execute_result"
    }
   ],
   "source": [
    "res = {**res_gr4j, **res_deepgr4j_cnn, **res_deepgr4j_lstm, **res_qdeepgr4j_lstm, **res_qdeepgr4j_cnn}\n",
    "res = pd.DataFrame(res).T\n",
    "res.sort_values(by='test_nse')"
   ]
  },
  {
   "cell_type": "code",
   "execution_count": null,
   "metadata": {},
   "outputs": [],
   "source": []
  },
  {
   "cell_type": "code",
   "execution_count": 19,
   "metadata": {},
   "outputs": [
    {
     "name": "stderr",
     "output_type": "stream",
     "text": [
      "/scratch/pbs.5802623.kman.restech.unsw.edu.au/ipykernel_3277702/400978567.py:3: FutureWarning: The default value of numeric_only in DataFrame.mean is deprecated. In a future version, it will default to False. In addition, specifying 'numeric_only=None' is deprecated. Select only valid columns or specify the value of numeric_only to silence this warning.\n",
      "  res_df.mean()\n"
     ]
    },
    {
     "data": {
      "text/plain": [
       "mse_score               10.380176\n",
       "nse_score                0.436307\n",
       "nnse_score               0.656316\n",
       "mse_score_corrected      9.436991\n",
       "nse_score_corrected      0.360980\n",
       "nnse_score_corrected     0.632639\n",
       "dtype: float64"
      ]
     },
     "execution_count": 19,
     "metadata": {},
     "output_type": "execute_result"
    }
   ],
   "source": [
    "res_path = 'results/deepgr4j_extremes/results.csv'\n",
    "res_df = pd.read_csv(res_path).reset_index(drop=True)\n",
    "res_df.mean()"
   ]
  },
  {
   "cell_type": "code",
   "execution_count": null,
   "metadata": {},
   "outputs": [],
   "source": []
  },
  {
   "cell_type": "code",
   "execution_count": null,
   "metadata": {},
   "outputs": [],
   "source": []
  },
  {
   "cell_type": "code",
   "execution_count": null,
   "metadata": {},
   "outputs": [],
   "source": []
  },
  {
   "cell_type": "code",
   "execution_count": null,
   "metadata": {},
   "outputs": [],
   "source": []
  },
  {
   "cell_type": "code",
   "execution_count": 2,
   "metadata": {},
   "outputs": [],
   "source": [
    "sel_cols = ['train_r2', 'test_r2', 'train_nse', 'test_nse']\n",
    "            # 'train_conf', 'test_conf']"
   ]
  },
  {
   "cell_type": "code",
   "execution_count": 25,
   "metadata": {},
   "outputs": [
    {
     "name": "stdout",
     "output_type": "stream",
     "text": [
      "0.319 & 0.5847 & 0.2048\n",
      "0.2463 & 0.4438 & -0.2027\n"
     ]
    }
   ],
   "source": [
    "res_path = 'results/qdeepgr4j_lstm_eval/aus/results.csv'\n",
    "res_df = pd.read_csv(res_path).reset_index(drop=True)\n",
    "train_nse_mean = np.vstack(res_df.train_nse.apply(lambda x: ast.literal_eval(x)).values).mean(axis=0)\n",
    "test_nse_mean = np.vstack(res_df.test_nse.apply(lambda x: ast.literal_eval(x)).values).mean(axis=0)\n",
    "\n",
    "print(\" & \".join(np.round(train_nse_mean, 4).astype('str').tolist()))\n",
    "print(\" & \".join(np.round(test_nse_mean, 4).astype('str').tolist()))"
   ]
  },
  {
   "cell_type": "code",
   "execution_count": 26,
   "metadata": {},
   "outputs": [
    {
     "name": "stdout",
     "output_type": "stream",
     "text": [
      "0.2382 & 0.5297 & -0.1082\n",
      "0.2164 & 0.4359 & -0.643\n"
     ]
    }
   ],
   "source": [
    "res_path = 'results/qdeepgr4j_cnn_eval/aus/results.csv'\n",
    "res_df = pd.read_csv(res_path).reset_index(drop=True)\n",
    "train_nse_mean = np.vstack(res_df.train_nse.apply(lambda x: ast.literal_eval(x)).values).mean(axis=0)\n",
    "test_nse_mean = np.vstack(res_df.test_nse.apply(lambda x: ast.literal_eval(x)).values).mean(axis=0)\n",
    "print(\" & \".join(np.round(train_nse_mean, 4).astype('str').tolist()))\n",
    "print(\" & \".join(np.round(test_nse_mean, 4).astype('str').tolist()))"
   ]
  },
  {
   "cell_type": "code",
   "execution_count": 27,
   "metadata": {},
   "outputs": [
    {
     "name": "stdout",
     "output_type": "stream",
     "text": [
      "0.2144 & 0.5182 & 0.1297\n",
      "0.1949 & 0.4168 & -0.3964\n"
     ]
    }
   ],
   "source": [
    "res_path = 'results/qdeepgr4j_rnn_eval/aus/results.csv'\n",
    "res_df = pd.read_csv(res_path).reset_index(drop=True)\n",
    "train_nse_mean = np.vstack(res_df.train_nse.apply(lambda x: ast.literal_eval(x)).values).mean(axis=0)\n",
    "test_nse_mean = np.vstack(res_df.test_nse.apply(lambda x: ast.literal_eval(x)).values).mean(axis=0)\n",
    "print(\" & \".join(np.round(train_nse_mean, 4).astype('str').tolist()))\n",
    "print(\" & \".join(np.round(test_nse_mean, 4).astype('str').tolist()))"
   ]
  },
  {
   "cell_type": "code",
   "execution_count": 28,
   "metadata": {},
   "outputs": [
    {
     "name": "stdout",
     "output_type": "stream",
     "text": [
      "0.4185 & 0.701 & 0.1288\n",
      "0.3202 & 0.5029 & -0.4611\n"
     ]
    }
   ],
   "source": [
    "res_path = 'results/qdeepgr4j_mlp_eval/aus/results.csv'\n",
    "res_df = pd.read_csv(res_path).reset_index(drop=True)\n",
    "train_nse_mean = np.vstack(res_df.train_nse.apply(lambda x: ast.literal_eval(x)).values).mean(axis=0)\n",
    "test_nse_mean = np.vstack(res_df.test_nse.apply(lambda x: ast.literal_eval(x)).values).mean(axis=0)\n",
    "print(\" & \".join(np.round(train_nse_mean, 4).astype('str').tolist()))\n",
    "print(\" & \".join(np.round(test_nse_mean, 4).astype('str').tolist()))"
   ]
  },
  {
   "cell_type": "code",
   "execution_count": null,
   "metadata": {},
   "outputs": [],
   "source": []
  },
  {
   "cell_type": "code",
   "execution_count": null,
   "metadata": {},
   "outputs": [],
   "source": []
  },
  {
   "cell_type": "code",
   "execution_count": null,
   "metadata": {},
   "outputs": [],
   "source": []
  },
  {
   "cell_type": "code",
   "execution_count": 5,
   "metadata": {},
   "outputs": [],
   "source": [
    "location_info = camels_ds.repo.data[camels_ds.location_vars].to_dataframe()"
   ]
  },
  {
   "cell_type": "code",
   "execution_count": 6,
   "metadata": {},
   "outputs": [
    {
     "data": {
      "text/html": [
       "<div>\n",
       "<style scoped>\n",
       "    .dataframe tbody tr th:only-of-type {\n",
       "        vertical-align: middle;\n",
       "    }\n",
       "\n",
       "    .dataframe tbody tr th {\n",
       "        vertical-align: top;\n",
       "    }\n",
       "\n",
       "    .dataframe thead th {\n",
       "        text-align: right;\n",
       "    }\n",
       "</style>\n",
       "<table border=\"1\" class=\"dataframe\">\n",
       "  <thead>\n",
       "    <tr style=\"text-align: right;\">\n",
       "      <th></th>\n",
       "      <th>train_conf</th>\n",
       "      <th>test_conf</th>\n",
       "    </tr>\n",
       "    <tr>\n",
       "      <th>state_outlet</th>\n",
       "      <th></th>\n",
       "      <th></th>\n",
       "    </tr>\n",
       "  </thead>\n",
       "  <tbody>\n",
       "    <tr>\n",
       "      <th>ACT</th>\n",
       "      <td>0.914079</td>\n",
       "      <td>0.821110</td>\n",
       "    </tr>\n",
       "    <tr>\n",
       "      <th>NSW</th>\n",
       "      <td>0.844447</td>\n",
       "      <td>0.737303</td>\n",
       "    </tr>\n",
       "    <tr>\n",
       "      <th>NT</th>\n",
       "      <td>0.641003</td>\n",
       "      <td>0.578360</td>\n",
       "    </tr>\n",
       "    <tr>\n",
       "      <th>QLD</th>\n",
       "      <td>0.778053</td>\n",
       "      <td>0.718685</td>\n",
       "    </tr>\n",
       "    <tr>\n",
       "      <th>SA</th>\n",
       "      <td>0.757288</td>\n",
       "      <td>0.503254</td>\n",
       "    </tr>\n",
       "    <tr>\n",
       "      <th>TAS</th>\n",
       "      <td>0.903956</td>\n",
       "      <td>0.838867</td>\n",
       "    </tr>\n",
       "    <tr>\n",
       "      <th>VIC</th>\n",
       "      <td>0.838711</td>\n",
       "      <td>0.625381</td>\n",
       "    </tr>\n",
       "    <tr>\n",
       "      <th>WA</th>\n",
       "      <td>0.667002</td>\n",
       "      <td>0.457955</td>\n",
       "    </tr>\n",
       "  </tbody>\n",
       "</table>\n",
       "</div>"
      ],
      "text/plain": [
       "              train_conf  test_conf\n",
       "state_outlet                       \n",
       "ACT             0.914079   0.821110\n",
       "NSW             0.844447   0.737303\n",
       "NT              0.641003   0.578360\n",
       "QLD             0.778053   0.718685\n",
       "SA              0.757288   0.503254\n",
       "TAS             0.903956   0.838867\n",
       "VIC             0.838711   0.625381\n",
       "WA              0.667002   0.457955"
      ]
     },
     "execution_count": 6,
     "metadata": {},
     "output_type": "execute_result"
    }
   ],
   "source": [
    "sel_cols = ['train_conf', 'test_conf']\n",
    "res_path = 'results/qdeepgr4j_mlp_eval/aus/results.csv'\n",
    "res_df = pd.read_csv(res_path).reset_index(drop=True)\n",
    "res_qdeepgr4j_mlp = {'qdeepgr4j_mlp': res_df[sel_cols].mean().to_dict()}\n",
    "\n",
    "\n",
    "res_df_clean = res_df.drop(columns='Unnamed: 0').set_index('station_id')\n",
    "res_df_clean = pd.concat([res_df_clean, location_info], axis=1)\n",
    "mlp_conf = res_df_clean.groupby('state_outlet').agg({'train_conf': 'mean', 'test_conf': 'mean'}).reset_index().to_dict(orient='records')\n",
    "mlp_conf = [{**r, **{'model': 'mlp'}} for r in mlp_conf]\n",
    "mlp_conf = pd.DataFrame.from_dict(mlp_conf).set_index(['state_outlet']).drop(columns='model')\n",
    "mlp_conf"
   ]
  },
  {
   "cell_type": "code",
   "execution_count": 47,
   "metadata": {},
   "outputs": [
    {
     "data": {
      "text/html": [
       "<div>\n",
       "<style scoped>\n",
       "    .dataframe tbody tr th:only-of-type {\n",
       "        vertical-align: middle;\n",
       "    }\n",
       "\n",
       "    .dataframe tbody tr th {\n",
       "        vertical-align: top;\n",
       "    }\n",
       "\n",
       "    .dataframe thead th {\n",
       "        text-align: right;\n",
       "    }\n",
       "</style>\n",
       "<table border=\"1\" class=\"dataframe\">\n",
       "  <thead>\n",
       "    <tr style=\"text-align: right;\">\n",
       "      <th></th>\n",
       "      <th></th>\n",
       "      <th>Q-DeepGR4J-MLP</th>\n",
       "      <th>Q-DeepGR4J-CNN</th>\n",
       "      <th>Q-DeepGR4J-RNN</th>\n",
       "      <th>Q-DeepGR4J-LSTM</th>\n",
       "    </tr>\n",
       "  </thead>\n",
       "  <tbody>\n",
       "    <tr>\n",
       "      <th rowspan=\"2\" valign=\"top\">ACT</th>\n",
       "      <th>Train $conf$</th>\n",
       "      <td>0.0141</td>\n",
       "      <td>0.0088</td>\n",
       "      <td>0.0320</td>\n",
       "      <td>0.0201</td>\n",
       "    </tr>\n",
       "    <tr>\n",
       "      <th>Test $conf$</th>\n",
       "      <td>0.0789</td>\n",
       "      <td>0.0669</td>\n",
       "      <td>0.0277</td>\n",
       "      <td>0.1159</td>\n",
       "    </tr>\n",
       "    <tr>\n",
       "      <th rowspan=\"2\" valign=\"top\">NSW</th>\n",
       "      <th>Train $conf$</th>\n",
       "      <td>0.0556</td>\n",
       "      <td>0.0558</td>\n",
       "      <td>0.0685</td>\n",
       "      <td>0.0624</td>\n",
       "    </tr>\n",
       "    <tr>\n",
       "      <th>Test $conf$</th>\n",
       "      <td>0.1627</td>\n",
       "      <td>0.1387</td>\n",
       "      <td>0.1518</td>\n",
       "      <td>0.1725</td>\n",
       "    </tr>\n",
       "    <tr>\n",
       "      <th rowspan=\"2\" valign=\"top\">NT</th>\n",
       "      <th>Train $conf$</th>\n",
       "      <td>0.2590</td>\n",
       "      <td>0.2602</td>\n",
       "      <td>0.2473</td>\n",
       "      <td>0.2552</td>\n",
       "    </tr>\n",
       "    <tr>\n",
       "      <th>Test $conf$</th>\n",
       "      <td>0.3216</td>\n",
       "      <td>0.2966</td>\n",
       "      <td>0.2547</td>\n",
       "      <td>0.2764</td>\n",
       "    </tr>\n",
       "    <tr>\n",
       "      <th rowspan=\"2\" valign=\"top\">QLD</th>\n",
       "      <th>Train $conf$</th>\n",
       "      <td>0.1219</td>\n",
       "      <td>0.1153</td>\n",
       "      <td>0.1350</td>\n",
       "      <td>0.1226</td>\n",
       "    </tr>\n",
       "    <tr>\n",
       "      <th>Test $conf$</th>\n",
       "      <td>0.1813</td>\n",
       "      <td>0.1540</td>\n",
       "      <td>0.1708</td>\n",
       "      <td>0.1691</td>\n",
       "    </tr>\n",
       "    <tr>\n",
       "      <th rowspan=\"2\" valign=\"top\">SA</th>\n",
       "      <th>Train $conf$</th>\n",
       "      <td>0.1427</td>\n",
       "      <td>0.1567</td>\n",
       "      <td>0.1442</td>\n",
       "      <td>0.1408</td>\n",
       "    </tr>\n",
       "    <tr>\n",
       "      <th>Test $conf$</th>\n",
       "      <td>0.3967</td>\n",
       "      <td>0.3416</td>\n",
       "      <td>0.3086</td>\n",
       "      <td>0.3639</td>\n",
       "    </tr>\n",
       "    <tr>\n",
       "      <th rowspan=\"2\" valign=\"top\">TAS</th>\n",
       "      <th>Train $conf$</th>\n",
       "      <td>0.0040</td>\n",
       "      <td>0.0026</td>\n",
       "      <td>0.0133</td>\n",
       "      <td>0.0049</td>\n",
       "    </tr>\n",
       "    <tr>\n",
       "      <th>Test $conf$</th>\n",
       "      <td>0.0611</td>\n",
       "      <td>0.0373</td>\n",
       "      <td>0.0279</td>\n",
       "      <td>0.0498</td>\n",
       "    </tr>\n",
       "    <tr>\n",
       "      <th rowspan=\"2\" valign=\"top\">VIC</th>\n",
       "      <th>Train $conf$</th>\n",
       "      <td>0.0613</td>\n",
       "      <td>0.0641</td>\n",
       "      <td>0.0745</td>\n",
       "      <td>0.0678</td>\n",
       "    </tr>\n",
       "    <tr>\n",
       "      <th>Test $conf$</th>\n",
       "      <td>0.2746</td>\n",
       "      <td>0.2420</td>\n",
       "      <td>0.2220</td>\n",
       "      <td>0.2634</td>\n",
       "    </tr>\n",
       "    <tr>\n",
       "      <th rowspan=\"2\" valign=\"top\">WA</th>\n",
       "      <th>Train $conf$</th>\n",
       "      <td>0.2330</td>\n",
       "      <td>0.2389</td>\n",
       "      <td>0.2613</td>\n",
       "      <td>0.2250</td>\n",
       "    </tr>\n",
       "    <tr>\n",
       "      <th>Test $conf$</th>\n",
       "      <td>0.4420</td>\n",
       "      <td>0.4028</td>\n",
       "      <td>0.4039</td>\n",
       "      <td>0.4100</td>\n",
       "    </tr>\n",
       "  </tbody>\n",
       "</table>\n",
       "</div>"
      ],
      "text/plain": [
       "                  Q-DeepGR4J-MLP  Q-DeepGR4J-CNN  Q-DeepGR4J-RNN  \\\n",
       "ACT Train $conf$          0.0141          0.0088          0.0320   \n",
       "    Test $conf$           0.0789          0.0669          0.0277   \n",
       "NSW Train $conf$          0.0556          0.0558          0.0685   \n",
       "    Test $conf$           0.1627          0.1387          0.1518   \n",
       "NT  Train $conf$          0.2590          0.2602          0.2473   \n",
       "    Test $conf$           0.3216          0.2966          0.2547   \n",
       "QLD Train $conf$          0.1219          0.1153          0.1350   \n",
       "    Test $conf$           0.1813          0.1540          0.1708   \n",
       "SA  Train $conf$          0.1427          0.1567          0.1442   \n",
       "    Test $conf$           0.3967          0.3416          0.3086   \n",
       "TAS Train $conf$          0.0040          0.0026          0.0133   \n",
       "    Test $conf$           0.0611          0.0373          0.0279   \n",
       "VIC Train $conf$          0.0613          0.0641          0.0745   \n",
       "    Test $conf$           0.2746          0.2420          0.2220   \n",
       "WA  Train $conf$          0.2330          0.2389          0.2613   \n",
       "    Test $conf$           0.4420          0.4028          0.4039   \n",
       "\n",
       "                  Q-DeepGR4J-LSTM  \n",
       "ACT Train $conf$           0.0201  \n",
       "    Test $conf$            0.1159  \n",
       "NSW Train $conf$           0.0624  \n",
       "    Test $conf$            0.1725  \n",
       "NT  Train $conf$           0.2552  \n",
       "    Test $conf$            0.2764  \n",
       "QLD Train $conf$           0.1226  \n",
       "    Test $conf$            0.1691  \n",
       "SA  Train $conf$           0.1408  \n",
       "    Test $conf$            0.3639  \n",
       "TAS Train $conf$           0.0049  \n",
       "    Test $conf$            0.0498  \n",
       "VIC Train $conf$           0.0678  \n",
       "    Test $conf$            0.2634  \n",
       "WA  Train $conf$           0.2250  \n",
       "    Test $conf$            0.4100  "
      ]
     },
     "execution_count": 47,
     "metadata": {},
     "output_type": "execute_result"
    }
   ],
   "source": [
    "sel_cols = ['train_conf', 'test_conf']\n",
    "models = ['mlp', 'cnn', 'rnn', 'lstm']\n",
    "conf_res_list = []\n",
    "\n",
    "for model in models:\n",
    "\n",
    "    res_path = f'results/qdeepgr4j_{model}_eval/aus/results.csv'\n",
    "    res_df = pd.read_csv(res_path).reset_index(drop=True)\n",
    "    \n",
    "    res_df_clean = res_df.drop(columns='Unnamed: 0').set_index('station_id')\n",
    "    res_df_clean = pd.concat([res_df_clean, location_info], axis=1)\n",
    "    \n",
    "    conf_res = res_df_clean.groupby('state_outlet').agg({'train_conf': 'mean', 'test_conf': 'mean'}).reset_index().to_dict(orient='records')\n",
    "    conf_res = pd.DataFrame.from_dict(conf_res)\n",
    "    states = conf_res['state_outlet'].values\n",
    "    conf_res = conf_res.set_index(['state_outlet'])\n",
    "\n",
    "    \n",
    "    cols = np.array([['Train $conf$', 'Test $conf$'] for i in range(8)]).flatten()\n",
    "    conf_res = pd.DataFrame([conf_res.values.flatten()], columns=cols, index=[f'Q-DeepGR4J-{model.upper()}'])\n",
    "    \n",
    "    new_level = np.stack([states, states], axis=1).flatten()\n",
    "    conf_res.columns = pd.MultiIndex.from_tuples(zip(new_level, conf_res.columns))\n",
    "\n",
    "    conf_res_list.append(conf_res)\n",
    "\n",
    "conf_res_df = pd.concat(conf_res_list, axis=0).T\n",
    "conf_res_df = np.abs(conf_res_df - 0.9)\n",
    "conf_res_df"
   ]
  },
  {
   "cell_type": "code",
   "execution_count": 48,
   "metadata": {},
   "outputs": [
    {
     "name": "stdout",
     "output_type": "stream",
     "text": [
      "\\begin{tabular}{llrrrr}\n",
      "\\toprule\n",
      "   &             &  Q-DeepGR4J-MLP &  Q-DeepGR4J-CNN &  Q-DeepGR4J-RNN &  Q-DeepGR4J-LSTM \\\\\n",
      "\\midrule\n",
      "ACT & Train \\$conf\\$ &          0.0141 &          0.0088 &          0.0320 &           0.0201 \\\\\n",
      "   & Test \\$conf\\$ &          0.0789 &          0.0669 &          0.0277 &           0.1159 \\\\\n",
      "NSW & Train \\$conf\\$ &          0.0556 &          0.0558 &          0.0685 &           0.0624 \\\\\n",
      "   & Test \\$conf\\$ &          0.1627 &          0.1387 &          0.1518 &           0.1725 \\\\\n",
      "NT & Train \\$conf\\$ &          0.2590 &          0.2602 &          0.2473 &           0.2552 \\\\\n",
      "   & Test \\$conf\\$ &          0.3216 &          0.2966 &          0.2547 &           0.2764 \\\\\n",
      "QLD & Train \\$conf\\$ &          0.1219 &          0.1153 &          0.1350 &           0.1226 \\\\\n",
      "   & Test \\$conf\\$ &          0.1813 &          0.1540 &          0.1708 &           0.1691 \\\\\n",
      "SA & Train \\$conf\\$ &          0.1427 &          0.1567 &          0.1442 &           0.1408 \\\\\n",
      "   & Test \\$conf\\$ &          0.3967 &          0.3416 &          0.3086 &           0.3639 \\\\\n",
      "TAS & Train \\$conf\\$ &          0.0040 &          0.0026 &          0.0133 &           0.0049 \\\\\n",
      "   & Test \\$conf\\$ &          0.0611 &          0.0373 &          0.0279 &           0.0498 \\\\\n",
      "VIC & Train \\$conf\\$ &          0.0613 &          0.0641 &          0.0745 &           0.0678 \\\\\n",
      "   & Test \\$conf\\$ &          0.2746 &          0.2420 &          0.2220 &           0.2634 \\\\\n",
      "WA & Train \\$conf\\$ &          0.2330 &          0.2389 &          0.2613 &           0.2250 \\\\\n",
      "   & Test \\$conf\\$ &          0.4420 &          0.4028 &          0.4039 &           0.4100 \\\\\n",
      "\\bottomrule\n",
      "\\end{tabular}\n",
      "\n"
     ]
    },
    {
     "name": "stderr",
     "output_type": "stream",
     "text": [
      "/scratch/pbs.5818082.kman.restech.unsw.edu.au/ipykernel_1576751/4010356513.py:2: FutureWarning: In future versions `DataFrame.to_latex` is expected to utilise the base implementation of `Styler.to_latex` for formatting and rendering. The arguments signature may therefore change. It is recommended instead to use `DataFrame.style.to_latex` which also contains additional functionality.\n",
      "  print(conf_res_df.to_latex())\n"
     ]
    }
   ],
   "source": [
    "pd.set_option(\"display.precision\", 4)\n",
    "print(conf_res_df.to_latex())"
   ]
  },
  {
   "cell_type": "code",
   "execution_count": 67,
   "metadata": {},
   "outputs": [
    {
     "data": {
      "text/plain": [
       "Q-DeepGR4J-MLP     0.1114\n",
       "Q-DeepGR4J-CNN     0.1128\n",
       "Q-DeepGR4J-RNN     0.1220\n",
       "Q-DeepGR4J-LSTM    0.1124\n",
       "dtype: float64"
      ]
     },
     "execution_count": 67,
     "metadata": {},
     "output_type": "execute_result"
    }
   ],
   "source": [
    "conf_res_df.iloc[::2].mean(axis=0)"
   ]
  },
  {
   "cell_type": "code",
   "execution_count": 68,
   "metadata": {},
   "outputs": [
    {
     "data": {
      "text/plain": [
       "Q-DeepGR4J-MLP     0.2399\n",
       "Q-DeepGR4J-CNN     0.2100\n",
       "Q-DeepGR4J-RNN     0.1959\n",
       "Q-DeepGR4J-LSTM    0.2276\n",
       "dtype: float64"
      ]
     },
     "execution_count": 68,
     "metadata": {},
     "output_type": "execute_result"
    }
   ],
   "source": [
    "conf_res_df.iloc[1::2].mean(axis=0)"
   ]
  },
  {
   "cell_type": "code",
   "execution_count": null,
   "metadata": {},
   "outputs": [],
   "source": []
  }
 ],
 "metadata": {
  "kernelspec": {
   "display_name": "Python 3 (ipykernel) (hydroml)",
   "language": "python",
   "name": "conda_hydroml_python3"
  },
  "language_info": {
   "codemirror_mode": {
    "name": "ipython",
    "version": 3
   },
   "file_extension": ".py",
   "mimetype": "text/x-python",
   "name": "python",
   "nbconvert_exporter": "python",
   "pygments_lexer": "ipython3",
   "version": "3.9.12"
  }
 },
 "nbformat": 4,
 "nbformat_minor": 4
}
